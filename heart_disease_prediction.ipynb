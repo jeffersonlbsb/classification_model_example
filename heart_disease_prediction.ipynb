{
 "cells": [
  {
   "cell_type": "markdown",
   "metadata": {
    "id": "nVVzgs_83lFa"
   },
   "source": [
    "# Heart Disease Prediction"
   ]
  },
  {
   "cell_type": "markdown",
   "metadata": {
    "id": "6_wnfeqY3fVu"
   },
   "source": [
    "## Qual o objetivo em analisar esse banco de dados?\n",
    "\n",
    "- Explorar e pré-processar os dados para acharmos o melhor modelo de classificação para esse conjunto de dados.\n",
    "\n",
    "## Os modelos de machine learning testados nesse conjunto de dados serão:\n",
    "\n",
    "- Decision Tree (Árvore de decisão)\n",
    "- Random Forest (Floresta randômica)\n",
    "- K-Nearest Neighbors (KNN)\n",
    "- Regressão logística\n",
    "\n",
    "## Explicação das variáveis do conjunto de dados\n",
    "1. HeartDisease: Os entrevistados que já relataram ter doença cardíaca coronária (CHD) ou infarto do miocárdio (MI).\n",
    "2. BMI: Índice de Massa Corporal (IMC).\n",
    "3. Smoking: Você fumou pelo menos 100 cigarros em toda a sua vida? (A resposta sim ou não).\n",
    "4. AlcoholDrinking: bebedores pesados (homens adultos que bebem mais de 14 bebidas por semana e mulheres adultas que bebem mais de 7 bebidas por semana)\n",
    "5. Stroke: você teve um derrame?\n",
    "6. PhysicalHealth: Agora, pensando em sua saúde física, que inclui doenças e lesões físicas, por quantos dias nos últimos 30 dias sua saúde física não foi boa? (0-30 dias).\n",
    "7. MentalHealth : Pensando em sua saúde mental, por quantos dias nos últimos 30 dias sua saúde mental não foi boa? (0-30 dias).\n",
    "8. DiffWalking : Você tem sérias dificuldades para caminhar ou subir escadas?\n",
    "9. Sex: Você é homem ou mulher?\n",
    "10. AgeCategory: Categoria de idade dividida em quatorze faixas etárias.\n",
    "11. Race: Qual a sua raça?\n",
    "12. Diabetic: Você tinha diabetes?\n",
    "13. PhysicalActivity: Adultos que relataram fazer atividade física ou exercício durante os últimos 30 dias, além de seu trabalho regular.\n",
    "14. GenHealth: Você diria que, em geral, sua saúde é...\n",
    "15. SleepTime: Em média, quantas horas de sono você dorme em um período de 24 horas?\n",
    "16. Asthma: você teve asma?\n",
    "17. KidneyDisease: Não incluindo cálculos renais, infecção da bexiga ou incontinência, você já foi informado de que tinha doença renal?\n",
    "18. SkinCancer: você teve câncer de pele?\n"
   ]
  },
  {
   "cell_type": "markdown",
   "metadata": {
    "id": "aSRHve_c35SN"
   },
   "source": [
    "## Importação das bibliotecas"
   ]
  },
  {
   "cell_type": "code",
   "execution_count": 29,
   "metadata": {
    "colab": {
     "base_uri": "https://localhost:8080/"
    },
    "id": "JhgVsECP38SK",
    "outputId": "c9c51fb5-f244-40d6-90b1-6a1403745bb6"
   },
   "outputs": [],
   "source": [
    "import pandas as pd\n",
    "import numpy as np\n",
    "import seaborn as sns\n",
    "import matplotlib.pyplot as plt\n",
    "import plotly.express as px\n",
    "from sklearn.model_selection import GridSearchCV\n",
    "from sklearn.tree import DecisionTreeClassifier\n",
    "from sklearn.ensemble import RandomForestClassifier\n",
    "from sklearn.neighbors import KNeighborsClassifier\n",
    "from sklearn.linear_model import LogisticRegression\n",
    "from sklearn.compose import make_column_transformer\n",
    "from sklearn.preprocessing import OneHotEncoder\n",
    "from sklearn import metrics\n",
    "from sklearn.model_selection import cross_val_score, KFold\n",
    "from scipy.stats import shapiro\n",
    "from scipy.stats import f_oneway\n",
    "from statsmodels.stats.multicomp import MultiComparison\n",
    "from sklearn.model_selection import train_test_split\n",
    "from sklearn.metrics import accuracy_score, classification_report\n",
    "from yellowbrick.classifier import ConfusionMatrix\n",
    "import warnings"
   ]
  },
  {
   "cell_type": "markdown",
   "metadata": {
    "id": "ex8PbOuC4QoR"
   },
   "source": [
    "## Lendo o banco de dados"
   ]
  },
  {
   "cell_type": "code",
   "execution_count": 3,
   "metadata": {
    "id": "KIKkmypn4VNa"
   },
   "outputs": [],
   "source": [
    "dados = pd.read_csv('C:/Users/jeffe/projeto_heart_disease_prediction/heart_2020_cleaned.csv')"
   ]
  },
  {
   "cell_type": "code",
   "execution_count": 4,
   "metadata": {
    "colab": {
     "base_uri": "https://localhost:8080/",
     "height": 487
    },
    "id": "CRlLSrWZ4tBY",
    "outputId": "708c6f30-faec-4647-9aaa-0cbe12bcaa13"
   },
   "outputs": [
    {
     "data": {
      "text/html": [
       "<div>\n",
       "<style scoped>\n",
       "    .dataframe tbody tr th:only-of-type {\n",
       "        vertical-align: middle;\n",
       "    }\n",
       "\n",
       "    .dataframe tbody tr th {\n",
       "        vertical-align: top;\n",
       "    }\n",
       "\n",
       "    .dataframe thead th {\n",
       "        text-align: right;\n",
       "    }\n",
       "</style>\n",
       "<table border=\"1\" class=\"dataframe\">\n",
       "  <thead>\n",
       "    <tr style=\"text-align: right;\">\n",
       "      <th></th>\n",
       "      <th>HeartDisease</th>\n",
       "      <th>BMI</th>\n",
       "      <th>Smoking</th>\n",
       "      <th>AlcoholDrinking</th>\n",
       "      <th>Stroke</th>\n",
       "      <th>PhysicalHealth</th>\n",
       "      <th>MentalHealth</th>\n",
       "      <th>DiffWalking</th>\n",
       "      <th>Sex</th>\n",
       "      <th>AgeCategory</th>\n",
       "      <th>Race</th>\n",
       "      <th>Diabetic</th>\n",
       "      <th>PhysicalActivity</th>\n",
       "      <th>GenHealth</th>\n",
       "      <th>SleepTime</th>\n",
       "      <th>Asthma</th>\n",
       "      <th>KidneyDisease</th>\n",
       "      <th>SkinCancer</th>\n",
       "    </tr>\n",
       "  </thead>\n",
       "  <tbody>\n",
       "    <tr>\n",
       "      <th>0</th>\n",
       "      <td>No</td>\n",
       "      <td>16.60</td>\n",
       "      <td>Yes</td>\n",
       "      <td>No</td>\n",
       "      <td>No</td>\n",
       "      <td>3.0</td>\n",
       "      <td>30.0</td>\n",
       "      <td>No</td>\n",
       "      <td>Female</td>\n",
       "      <td>55-59</td>\n",
       "      <td>White</td>\n",
       "      <td>Yes</td>\n",
       "      <td>Yes</td>\n",
       "      <td>Very good</td>\n",
       "      <td>5.0</td>\n",
       "      <td>Yes</td>\n",
       "      <td>No</td>\n",
       "      <td>Yes</td>\n",
       "    </tr>\n",
       "    <tr>\n",
       "      <th>1</th>\n",
       "      <td>No</td>\n",
       "      <td>20.34</td>\n",
       "      <td>No</td>\n",
       "      <td>No</td>\n",
       "      <td>Yes</td>\n",
       "      <td>0.0</td>\n",
       "      <td>0.0</td>\n",
       "      <td>No</td>\n",
       "      <td>Female</td>\n",
       "      <td>80 or older</td>\n",
       "      <td>White</td>\n",
       "      <td>No</td>\n",
       "      <td>Yes</td>\n",
       "      <td>Very good</td>\n",
       "      <td>7.0</td>\n",
       "      <td>No</td>\n",
       "      <td>No</td>\n",
       "      <td>No</td>\n",
       "    </tr>\n",
       "    <tr>\n",
       "      <th>2</th>\n",
       "      <td>No</td>\n",
       "      <td>26.58</td>\n",
       "      <td>Yes</td>\n",
       "      <td>No</td>\n",
       "      <td>No</td>\n",
       "      <td>20.0</td>\n",
       "      <td>30.0</td>\n",
       "      <td>No</td>\n",
       "      <td>Male</td>\n",
       "      <td>65-69</td>\n",
       "      <td>White</td>\n",
       "      <td>Yes</td>\n",
       "      <td>Yes</td>\n",
       "      <td>Fair</td>\n",
       "      <td>8.0</td>\n",
       "      <td>Yes</td>\n",
       "      <td>No</td>\n",
       "      <td>No</td>\n",
       "    </tr>\n",
       "    <tr>\n",
       "      <th>3</th>\n",
       "      <td>No</td>\n",
       "      <td>24.21</td>\n",
       "      <td>No</td>\n",
       "      <td>No</td>\n",
       "      <td>No</td>\n",
       "      <td>0.0</td>\n",
       "      <td>0.0</td>\n",
       "      <td>No</td>\n",
       "      <td>Female</td>\n",
       "      <td>75-79</td>\n",
       "      <td>White</td>\n",
       "      <td>No</td>\n",
       "      <td>No</td>\n",
       "      <td>Good</td>\n",
       "      <td>6.0</td>\n",
       "      <td>No</td>\n",
       "      <td>No</td>\n",
       "      <td>Yes</td>\n",
       "    </tr>\n",
       "    <tr>\n",
       "      <th>4</th>\n",
       "      <td>No</td>\n",
       "      <td>23.71</td>\n",
       "      <td>No</td>\n",
       "      <td>No</td>\n",
       "      <td>No</td>\n",
       "      <td>28.0</td>\n",
       "      <td>0.0</td>\n",
       "      <td>Yes</td>\n",
       "      <td>Female</td>\n",
       "      <td>40-44</td>\n",
       "      <td>White</td>\n",
       "      <td>No</td>\n",
       "      <td>Yes</td>\n",
       "      <td>Very good</td>\n",
       "      <td>8.0</td>\n",
       "      <td>No</td>\n",
       "      <td>No</td>\n",
       "      <td>No</td>\n",
       "    </tr>\n",
       "    <tr>\n",
       "      <th>...</th>\n",
       "      <td>...</td>\n",
       "      <td>...</td>\n",
       "      <td>...</td>\n",
       "      <td>...</td>\n",
       "      <td>...</td>\n",
       "      <td>...</td>\n",
       "      <td>...</td>\n",
       "      <td>...</td>\n",
       "      <td>...</td>\n",
       "      <td>...</td>\n",
       "      <td>...</td>\n",
       "      <td>...</td>\n",
       "      <td>...</td>\n",
       "      <td>...</td>\n",
       "      <td>...</td>\n",
       "      <td>...</td>\n",
       "      <td>...</td>\n",
       "      <td>...</td>\n",
       "    </tr>\n",
       "    <tr>\n",
       "      <th>319790</th>\n",
       "      <td>Yes</td>\n",
       "      <td>27.41</td>\n",
       "      <td>Yes</td>\n",
       "      <td>No</td>\n",
       "      <td>No</td>\n",
       "      <td>7.0</td>\n",
       "      <td>0.0</td>\n",
       "      <td>Yes</td>\n",
       "      <td>Male</td>\n",
       "      <td>60-64</td>\n",
       "      <td>Hispanic</td>\n",
       "      <td>Yes</td>\n",
       "      <td>No</td>\n",
       "      <td>Fair</td>\n",
       "      <td>6.0</td>\n",
       "      <td>Yes</td>\n",
       "      <td>No</td>\n",
       "      <td>No</td>\n",
       "    </tr>\n",
       "    <tr>\n",
       "      <th>319791</th>\n",
       "      <td>No</td>\n",
       "      <td>29.84</td>\n",
       "      <td>Yes</td>\n",
       "      <td>No</td>\n",
       "      <td>No</td>\n",
       "      <td>0.0</td>\n",
       "      <td>0.0</td>\n",
       "      <td>No</td>\n",
       "      <td>Male</td>\n",
       "      <td>35-39</td>\n",
       "      <td>Hispanic</td>\n",
       "      <td>No</td>\n",
       "      <td>Yes</td>\n",
       "      <td>Very good</td>\n",
       "      <td>5.0</td>\n",
       "      <td>Yes</td>\n",
       "      <td>No</td>\n",
       "      <td>No</td>\n",
       "    </tr>\n",
       "    <tr>\n",
       "      <th>319792</th>\n",
       "      <td>No</td>\n",
       "      <td>24.24</td>\n",
       "      <td>No</td>\n",
       "      <td>No</td>\n",
       "      <td>No</td>\n",
       "      <td>0.0</td>\n",
       "      <td>0.0</td>\n",
       "      <td>No</td>\n",
       "      <td>Female</td>\n",
       "      <td>45-49</td>\n",
       "      <td>Hispanic</td>\n",
       "      <td>No</td>\n",
       "      <td>Yes</td>\n",
       "      <td>Good</td>\n",
       "      <td>6.0</td>\n",
       "      <td>No</td>\n",
       "      <td>No</td>\n",
       "      <td>No</td>\n",
       "    </tr>\n",
       "    <tr>\n",
       "      <th>319793</th>\n",
       "      <td>No</td>\n",
       "      <td>32.81</td>\n",
       "      <td>No</td>\n",
       "      <td>No</td>\n",
       "      <td>No</td>\n",
       "      <td>0.0</td>\n",
       "      <td>0.0</td>\n",
       "      <td>No</td>\n",
       "      <td>Female</td>\n",
       "      <td>25-29</td>\n",
       "      <td>Hispanic</td>\n",
       "      <td>No</td>\n",
       "      <td>No</td>\n",
       "      <td>Good</td>\n",
       "      <td>12.0</td>\n",
       "      <td>No</td>\n",
       "      <td>No</td>\n",
       "      <td>No</td>\n",
       "    </tr>\n",
       "    <tr>\n",
       "      <th>319794</th>\n",
       "      <td>No</td>\n",
       "      <td>46.56</td>\n",
       "      <td>No</td>\n",
       "      <td>No</td>\n",
       "      <td>No</td>\n",
       "      <td>0.0</td>\n",
       "      <td>0.0</td>\n",
       "      <td>No</td>\n",
       "      <td>Female</td>\n",
       "      <td>80 or older</td>\n",
       "      <td>Hispanic</td>\n",
       "      <td>No</td>\n",
       "      <td>Yes</td>\n",
       "      <td>Good</td>\n",
       "      <td>8.0</td>\n",
       "      <td>No</td>\n",
       "      <td>No</td>\n",
       "      <td>No</td>\n",
       "    </tr>\n",
       "  </tbody>\n",
       "</table>\n",
       "<p>319795 rows × 18 columns</p>\n",
       "</div>"
      ],
      "text/plain": [
       "       HeartDisease    BMI Smoking AlcoholDrinking Stroke  PhysicalHealth  \\\n",
       "0                No  16.60     Yes              No     No             3.0   \n",
       "1                No  20.34      No              No    Yes             0.0   \n",
       "2                No  26.58     Yes              No     No            20.0   \n",
       "3                No  24.21      No              No     No             0.0   \n",
       "4                No  23.71      No              No     No            28.0   \n",
       "...             ...    ...     ...             ...    ...             ...   \n",
       "319790          Yes  27.41     Yes              No     No             7.0   \n",
       "319791           No  29.84     Yes              No     No             0.0   \n",
       "319792           No  24.24      No              No     No             0.0   \n",
       "319793           No  32.81      No              No     No             0.0   \n",
       "319794           No  46.56      No              No     No             0.0   \n",
       "\n",
       "        MentalHealth DiffWalking     Sex  AgeCategory      Race Diabetic  \\\n",
       "0               30.0          No  Female        55-59     White      Yes   \n",
       "1                0.0          No  Female  80 or older     White       No   \n",
       "2               30.0          No    Male        65-69     White      Yes   \n",
       "3                0.0          No  Female        75-79     White       No   \n",
       "4                0.0         Yes  Female        40-44     White       No   \n",
       "...              ...         ...     ...          ...       ...      ...   \n",
       "319790           0.0         Yes    Male        60-64  Hispanic      Yes   \n",
       "319791           0.0          No    Male        35-39  Hispanic       No   \n",
       "319792           0.0          No  Female        45-49  Hispanic       No   \n",
       "319793           0.0          No  Female        25-29  Hispanic       No   \n",
       "319794           0.0          No  Female  80 or older  Hispanic       No   \n",
       "\n",
       "       PhysicalActivity  GenHealth  SleepTime Asthma KidneyDisease SkinCancer  \n",
       "0                   Yes  Very good        5.0    Yes            No        Yes  \n",
       "1                   Yes  Very good        7.0     No            No         No  \n",
       "2                   Yes       Fair        8.0    Yes            No         No  \n",
       "3                    No       Good        6.0     No            No        Yes  \n",
       "4                   Yes  Very good        8.0     No            No         No  \n",
       "...                 ...        ...        ...    ...           ...        ...  \n",
       "319790               No       Fair        6.0    Yes            No         No  \n",
       "319791              Yes  Very good        5.0    Yes            No         No  \n",
       "319792              Yes       Good        6.0     No            No         No  \n",
       "319793               No       Good       12.0     No            No         No  \n",
       "319794              Yes       Good        8.0     No            No         No  \n",
       "\n",
       "[319795 rows x 18 columns]"
      ]
     },
     "execution_count": 4,
     "metadata": {},
     "output_type": "execute_result"
    }
   ],
   "source": [
    "dados"
   ]
  },
  {
   "cell_type": "markdown",
   "metadata": {
    "id": "eZ31qZkWOKA3"
   },
   "source": [
    "- Deixarei apenas 30.000 linhas desse banco de dados, pois já é suficiente para fins de demonstração."
   ]
  },
  {
   "cell_type": "code",
   "execution_count": 5,
   "metadata": {
    "id": "luzNa9pJOzU0"
   },
   "outputs": [],
   "source": [
    "dados = dados.drop(range(30000,319795))"
   ]
  },
  {
   "cell_type": "code",
   "execution_count": 6,
   "metadata": {
    "colab": {
     "base_uri": "https://localhost:8080/",
     "height": 487
    },
    "id": "2suDBf8zQq5j",
    "outputId": "56d1b792-0e71-4e76-b2b8-210dee0824eb"
   },
   "outputs": [
    {
     "data": {
      "text/html": [
       "<div>\n",
       "<style scoped>\n",
       "    .dataframe tbody tr th:only-of-type {\n",
       "        vertical-align: middle;\n",
       "    }\n",
       "\n",
       "    .dataframe tbody tr th {\n",
       "        vertical-align: top;\n",
       "    }\n",
       "\n",
       "    .dataframe thead th {\n",
       "        text-align: right;\n",
       "    }\n",
       "</style>\n",
       "<table border=\"1\" class=\"dataframe\">\n",
       "  <thead>\n",
       "    <tr style=\"text-align: right;\">\n",
       "      <th></th>\n",
       "      <th>HeartDisease</th>\n",
       "      <th>BMI</th>\n",
       "      <th>Smoking</th>\n",
       "      <th>AlcoholDrinking</th>\n",
       "      <th>Stroke</th>\n",
       "      <th>PhysicalHealth</th>\n",
       "      <th>MentalHealth</th>\n",
       "      <th>DiffWalking</th>\n",
       "      <th>Sex</th>\n",
       "      <th>AgeCategory</th>\n",
       "      <th>Race</th>\n",
       "      <th>Diabetic</th>\n",
       "      <th>PhysicalActivity</th>\n",
       "      <th>GenHealth</th>\n",
       "      <th>SleepTime</th>\n",
       "      <th>Asthma</th>\n",
       "      <th>KidneyDisease</th>\n",
       "      <th>SkinCancer</th>\n",
       "    </tr>\n",
       "  </thead>\n",
       "  <tbody>\n",
       "    <tr>\n",
       "      <th>0</th>\n",
       "      <td>No</td>\n",
       "      <td>16.60</td>\n",
       "      <td>Yes</td>\n",
       "      <td>No</td>\n",
       "      <td>No</td>\n",
       "      <td>3.0</td>\n",
       "      <td>30.0</td>\n",
       "      <td>No</td>\n",
       "      <td>Female</td>\n",
       "      <td>55-59</td>\n",
       "      <td>White</td>\n",
       "      <td>Yes</td>\n",
       "      <td>Yes</td>\n",
       "      <td>Very good</td>\n",
       "      <td>5.0</td>\n",
       "      <td>Yes</td>\n",
       "      <td>No</td>\n",
       "      <td>Yes</td>\n",
       "    </tr>\n",
       "    <tr>\n",
       "      <th>1</th>\n",
       "      <td>No</td>\n",
       "      <td>20.34</td>\n",
       "      <td>No</td>\n",
       "      <td>No</td>\n",
       "      <td>Yes</td>\n",
       "      <td>0.0</td>\n",
       "      <td>0.0</td>\n",
       "      <td>No</td>\n",
       "      <td>Female</td>\n",
       "      <td>80 or older</td>\n",
       "      <td>White</td>\n",
       "      <td>No</td>\n",
       "      <td>Yes</td>\n",
       "      <td>Very good</td>\n",
       "      <td>7.0</td>\n",
       "      <td>No</td>\n",
       "      <td>No</td>\n",
       "      <td>No</td>\n",
       "    </tr>\n",
       "    <tr>\n",
       "      <th>2</th>\n",
       "      <td>No</td>\n",
       "      <td>26.58</td>\n",
       "      <td>Yes</td>\n",
       "      <td>No</td>\n",
       "      <td>No</td>\n",
       "      <td>20.0</td>\n",
       "      <td>30.0</td>\n",
       "      <td>No</td>\n",
       "      <td>Male</td>\n",
       "      <td>65-69</td>\n",
       "      <td>White</td>\n",
       "      <td>Yes</td>\n",
       "      <td>Yes</td>\n",
       "      <td>Fair</td>\n",
       "      <td>8.0</td>\n",
       "      <td>Yes</td>\n",
       "      <td>No</td>\n",
       "      <td>No</td>\n",
       "    </tr>\n",
       "    <tr>\n",
       "      <th>3</th>\n",
       "      <td>No</td>\n",
       "      <td>24.21</td>\n",
       "      <td>No</td>\n",
       "      <td>No</td>\n",
       "      <td>No</td>\n",
       "      <td>0.0</td>\n",
       "      <td>0.0</td>\n",
       "      <td>No</td>\n",
       "      <td>Female</td>\n",
       "      <td>75-79</td>\n",
       "      <td>White</td>\n",
       "      <td>No</td>\n",
       "      <td>No</td>\n",
       "      <td>Good</td>\n",
       "      <td>6.0</td>\n",
       "      <td>No</td>\n",
       "      <td>No</td>\n",
       "      <td>Yes</td>\n",
       "    </tr>\n",
       "    <tr>\n",
       "      <th>4</th>\n",
       "      <td>No</td>\n",
       "      <td>23.71</td>\n",
       "      <td>No</td>\n",
       "      <td>No</td>\n",
       "      <td>No</td>\n",
       "      <td>28.0</td>\n",
       "      <td>0.0</td>\n",
       "      <td>Yes</td>\n",
       "      <td>Female</td>\n",
       "      <td>40-44</td>\n",
       "      <td>White</td>\n",
       "      <td>No</td>\n",
       "      <td>Yes</td>\n",
       "      <td>Very good</td>\n",
       "      <td>8.0</td>\n",
       "      <td>No</td>\n",
       "      <td>No</td>\n",
       "      <td>No</td>\n",
       "    </tr>\n",
       "    <tr>\n",
       "      <th>...</th>\n",
       "      <td>...</td>\n",
       "      <td>...</td>\n",
       "      <td>...</td>\n",
       "      <td>...</td>\n",
       "      <td>...</td>\n",
       "      <td>...</td>\n",
       "      <td>...</td>\n",
       "      <td>...</td>\n",
       "      <td>...</td>\n",
       "      <td>...</td>\n",
       "      <td>...</td>\n",
       "      <td>...</td>\n",
       "      <td>...</td>\n",
       "      <td>...</td>\n",
       "      <td>...</td>\n",
       "      <td>...</td>\n",
       "      <td>...</td>\n",
       "      <td>...</td>\n",
       "    </tr>\n",
       "    <tr>\n",
       "      <th>29995</th>\n",
       "      <td>No</td>\n",
       "      <td>24.33</td>\n",
       "      <td>No</td>\n",
       "      <td>No</td>\n",
       "      <td>No</td>\n",
       "      <td>0.0</td>\n",
       "      <td>0.0</td>\n",
       "      <td>No</td>\n",
       "      <td>Male</td>\n",
       "      <td>55-59</td>\n",
       "      <td>Other</td>\n",
       "      <td>No</td>\n",
       "      <td>Yes</td>\n",
       "      <td>Excellent</td>\n",
       "      <td>7.0</td>\n",
       "      <td>No</td>\n",
       "      <td>No</td>\n",
       "      <td>No</td>\n",
       "    </tr>\n",
       "    <tr>\n",
       "      <th>29996</th>\n",
       "      <td>Yes</td>\n",
       "      <td>27.50</td>\n",
       "      <td>Yes</td>\n",
       "      <td>No</td>\n",
       "      <td>No</td>\n",
       "      <td>0.0</td>\n",
       "      <td>0.0</td>\n",
       "      <td>No</td>\n",
       "      <td>Male</td>\n",
       "      <td>70-74</td>\n",
       "      <td>White</td>\n",
       "      <td>No</td>\n",
       "      <td>Yes</td>\n",
       "      <td>Excellent</td>\n",
       "      <td>8.0</td>\n",
       "      <td>No</td>\n",
       "      <td>No</td>\n",
       "      <td>No</td>\n",
       "    </tr>\n",
       "    <tr>\n",
       "      <th>29997</th>\n",
       "      <td>No</td>\n",
       "      <td>25.82</td>\n",
       "      <td>No</td>\n",
       "      <td>No</td>\n",
       "      <td>No</td>\n",
       "      <td>3.0</td>\n",
       "      <td>2.0</td>\n",
       "      <td>No</td>\n",
       "      <td>Female</td>\n",
       "      <td>60-64</td>\n",
       "      <td>White</td>\n",
       "      <td>No</td>\n",
       "      <td>No</td>\n",
       "      <td>Very good</td>\n",
       "      <td>9.0</td>\n",
       "      <td>No</td>\n",
       "      <td>No</td>\n",
       "      <td>No</td>\n",
       "    </tr>\n",
       "    <tr>\n",
       "      <th>29998</th>\n",
       "      <td>No</td>\n",
       "      <td>26.78</td>\n",
       "      <td>No</td>\n",
       "      <td>No</td>\n",
       "      <td>No</td>\n",
       "      <td>0.0</td>\n",
       "      <td>4.0</td>\n",
       "      <td>No</td>\n",
       "      <td>Male</td>\n",
       "      <td>25-29</td>\n",
       "      <td>White</td>\n",
       "      <td>No</td>\n",
       "      <td>Yes</td>\n",
       "      <td>Excellent</td>\n",
       "      <td>7.0</td>\n",
       "      <td>No</td>\n",
       "      <td>No</td>\n",
       "      <td>No</td>\n",
       "    </tr>\n",
       "    <tr>\n",
       "      <th>29999</th>\n",
       "      <td>No</td>\n",
       "      <td>29.29</td>\n",
       "      <td>No</td>\n",
       "      <td>No</td>\n",
       "      <td>No</td>\n",
       "      <td>10.0</td>\n",
       "      <td>10.0</td>\n",
       "      <td>No</td>\n",
       "      <td>Male</td>\n",
       "      <td>60-64</td>\n",
       "      <td>Other</td>\n",
       "      <td>No</td>\n",
       "      <td>Yes</td>\n",
       "      <td>Very good</td>\n",
       "      <td>6.0</td>\n",
       "      <td>No</td>\n",
       "      <td>No</td>\n",
       "      <td>No</td>\n",
       "    </tr>\n",
       "  </tbody>\n",
       "</table>\n",
       "<p>30000 rows × 18 columns</p>\n",
       "</div>"
      ],
      "text/plain": [
       "      HeartDisease    BMI Smoking AlcoholDrinking Stroke  PhysicalHealth  \\\n",
       "0               No  16.60     Yes              No     No             3.0   \n",
       "1               No  20.34      No              No    Yes             0.0   \n",
       "2               No  26.58     Yes              No     No            20.0   \n",
       "3               No  24.21      No              No     No             0.0   \n",
       "4               No  23.71      No              No     No            28.0   \n",
       "...            ...    ...     ...             ...    ...             ...   \n",
       "29995           No  24.33      No              No     No             0.0   \n",
       "29996          Yes  27.50     Yes              No     No             0.0   \n",
       "29997           No  25.82      No              No     No             3.0   \n",
       "29998           No  26.78      No              No     No             0.0   \n",
       "29999           No  29.29      No              No     No            10.0   \n",
       "\n",
       "       MentalHealth DiffWalking     Sex  AgeCategory   Race Diabetic  \\\n",
       "0              30.0          No  Female        55-59  White      Yes   \n",
       "1               0.0          No  Female  80 or older  White       No   \n",
       "2              30.0          No    Male        65-69  White      Yes   \n",
       "3               0.0          No  Female        75-79  White       No   \n",
       "4               0.0         Yes  Female        40-44  White       No   \n",
       "...             ...         ...     ...          ...    ...      ...   \n",
       "29995           0.0          No    Male        55-59  Other       No   \n",
       "29996           0.0          No    Male        70-74  White       No   \n",
       "29997           2.0          No  Female        60-64  White       No   \n",
       "29998           4.0          No    Male        25-29  White       No   \n",
       "29999          10.0          No    Male        60-64  Other       No   \n",
       "\n",
       "      PhysicalActivity  GenHealth  SleepTime Asthma KidneyDisease SkinCancer  \n",
       "0                  Yes  Very good        5.0    Yes            No        Yes  \n",
       "1                  Yes  Very good        7.0     No            No         No  \n",
       "2                  Yes       Fair        8.0    Yes            No         No  \n",
       "3                   No       Good        6.0     No            No        Yes  \n",
       "4                  Yes  Very good        8.0     No            No         No  \n",
       "...                ...        ...        ...    ...           ...        ...  \n",
       "29995              Yes  Excellent        7.0     No            No         No  \n",
       "29996              Yes  Excellent        8.0     No            No         No  \n",
       "29997               No  Very good        9.0     No            No         No  \n",
       "29998              Yes  Excellent        7.0     No            No         No  \n",
       "29999              Yes  Very good        6.0     No            No         No  \n",
       "\n",
       "[30000 rows x 18 columns]"
      ]
     },
     "execution_count": 6,
     "metadata": {},
     "output_type": "execute_result"
    }
   ],
   "source": [
    "dados"
   ]
  },
  {
   "cell_type": "markdown",
   "metadata": {
    "id": "Nu5noHNg43ZW"
   },
   "source": [
    "## Algumas estatísticas sobre as variáveis numéricas desse conjunto de dados"
   ]
  },
  {
   "cell_type": "code",
   "execution_count": 7,
   "metadata": {
    "colab": {
     "base_uri": "https://localhost:8080/",
     "height": 300
    },
    "id": "gNiGzOOq47IW",
    "outputId": "9b6bd31a-6226-4ad5-dbf0-c6b603755ac7"
   },
   "outputs": [
    {
     "data": {
      "text/html": [
       "<div>\n",
       "<style scoped>\n",
       "    .dataframe tbody tr th:only-of-type {\n",
       "        vertical-align: middle;\n",
       "    }\n",
       "\n",
       "    .dataframe tbody tr th {\n",
       "        vertical-align: top;\n",
       "    }\n",
       "\n",
       "    .dataframe thead th {\n",
       "        text-align: right;\n",
       "    }\n",
       "</style>\n",
       "<table border=\"1\" class=\"dataframe\">\n",
       "  <thead>\n",
       "    <tr style=\"text-align: right;\">\n",
       "      <th></th>\n",
       "      <th>BMI</th>\n",
       "      <th>PhysicalHealth</th>\n",
       "      <th>MentalHealth</th>\n",
       "      <th>SleepTime</th>\n",
       "    </tr>\n",
       "  </thead>\n",
       "  <tbody>\n",
       "    <tr>\n",
       "      <th>count</th>\n",
       "      <td>30000.000000</td>\n",
       "      <td>30000.000000</td>\n",
       "      <td>30000.000000</td>\n",
       "      <td>30000.000000</td>\n",
       "    </tr>\n",
       "    <tr>\n",
       "      <th>mean</th>\n",
       "      <td>28.059356</td>\n",
       "      <td>3.653867</td>\n",
       "      <td>3.977233</td>\n",
       "      <td>7.138767</td>\n",
       "    </tr>\n",
       "    <tr>\n",
       "      <th>std</th>\n",
       "      <td>6.295974</td>\n",
       "      <td>8.208709</td>\n",
       "      <td>7.934995</td>\n",
       "      <td>1.479386</td>\n",
       "    </tr>\n",
       "    <tr>\n",
       "      <th>min</th>\n",
       "      <td>12.400000</td>\n",
       "      <td>0.000000</td>\n",
       "      <td>0.000000</td>\n",
       "      <td>1.000000</td>\n",
       "    </tr>\n",
       "    <tr>\n",
       "      <th>25%</th>\n",
       "      <td>23.730000</td>\n",
       "      <td>0.000000</td>\n",
       "      <td>0.000000</td>\n",
       "      <td>6.000000</td>\n",
       "    </tr>\n",
       "    <tr>\n",
       "      <th>50%</th>\n",
       "      <td>27.120000</td>\n",
       "      <td>0.000000</td>\n",
       "      <td>0.000000</td>\n",
       "      <td>7.000000</td>\n",
       "    </tr>\n",
       "    <tr>\n",
       "      <th>75%</th>\n",
       "      <td>31.180000</td>\n",
       "      <td>2.000000</td>\n",
       "      <td>4.000000</td>\n",
       "      <td>8.000000</td>\n",
       "    </tr>\n",
       "    <tr>\n",
       "      <th>max</th>\n",
       "      <td>83.000000</td>\n",
       "      <td>30.000000</td>\n",
       "      <td>30.000000</td>\n",
       "      <td>24.000000</td>\n",
       "    </tr>\n",
       "  </tbody>\n",
       "</table>\n",
       "</div>"
      ],
      "text/plain": [
       "                BMI  PhysicalHealth  MentalHealth     SleepTime\n",
       "count  30000.000000    30000.000000  30000.000000  30000.000000\n",
       "mean      28.059356        3.653867      3.977233      7.138767\n",
       "std        6.295974        8.208709      7.934995      1.479386\n",
       "min       12.400000        0.000000      0.000000      1.000000\n",
       "25%       23.730000        0.000000      0.000000      6.000000\n",
       "50%       27.120000        0.000000      0.000000      7.000000\n",
       "75%       31.180000        2.000000      4.000000      8.000000\n",
       "max       83.000000       30.000000     30.000000     24.000000"
      ]
     },
     "execution_count": 7,
     "metadata": {},
     "output_type": "execute_result"
    }
   ],
   "source": [
    "dados.describe()"
   ]
  },
  {
   "cell_type": "markdown",
   "metadata": {
    "id": "-DEkj-mX5Cgx"
   },
   "source": [
    "## Limpeza dos dados"
   ]
  },
  {
   "cell_type": "code",
   "execution_count": 8,
   "metadata": {
    "colab": {
     "base_uri": "https://localhost:8080/"
    },
    "id": "tthPz0zA5ENy",
    "outputId": "08888772-4003-4271-a261-7ccee26555d8"
   },
   "outputs": [
    {
     "name": "stdout",
     "output_type": "stream",
     "text": [
      "<class 'pandas.core.frame.DataFrame'>\n",
      "Int64Index: 30000 entries, 0 to 29999\n",
      "Data columns (total 18 columns):\n",
      " #   Column            Non-Null Count  Dtype  \n",
      "---  ------            --------------  -----  \n",
      " 0   HeartDisease      30000 non-null  object \n",
      " 1   BMI               30000 non-null  float64\n",
      " 2   Smoking           30000 non-null  object \n",
      " 3   AlcoholDrinking   30000 non-null  object \n",
      " 4   Stroke            30000 non-null  object \n",
      " 5   PhysicalHealth    30000 non-null  float64\n",
      " 6   MentalHealth      30000 non-null  float64\n",
      " 7   DiffWalking       30000 non-null  object \n",
      " 8   Sex               30000 non-null  object \n",
      " 9   AgeCategory       30000 non-null  object \n",
      " 10  Race              30000 non-null  object \n",
      " 11  Diabetic          30000 non-null  object \n",
      " 12  PhysicalActivity  30000 non-null  object \n",
      " 13  GenHealth         30000 non-null  object \n",
      " 14  SleepTime         30000 non-null  float64\n",
      " 15  Asthma            30000 non-null  object \n",
      " 16  KidneyDisease     30000 non-null  object \n",
      " 17  SkinCancer        30000 non-null  object \n",
      "dtypes: float64(4), object(14)\n",
      "memory usage: 4.3+ MB\n"
     ]
    }
   ],
   "source": [
    "dados.info()"
   ]
  },
  {
   "cell_type": "code",
   "execution_count": 9,
   "metadata": {
    "colab": {
     "base_uri": "https://localhost:8080/"
    },
    "id": "gutuI-dz5JLv",
    "outputId": "f7262104-f26d-4f74-dea1-51c5e928e27d"
   },
   "outputs": [
    {
     "data": {
      "text/plain": [
       "HeartDisease           2\n",
       "BMI                 2078\n",
       "Smoking                2\n",
       "AlcoholDrinking        2\n",
       "Stroke                 2\n",
       "PhysicalHealth        31\n",
       "MentalHealth          31\n",
       "DiffWalking            2\n",
       "Sex                    2\n",
       "AgeCategory           13\n",
       "Race                   6\n",
       "Diabetic               4\n",
       "PhysicalActivity       2\n",
       "GenHealth              5\n",
       "SleepTime             22\n",
       "Asthma                 2\n",
       "KidneyDisease          2\n",
       "SkinCancer             2\n",
       "dtype: int64"
      ]
     },
     "execution_count": 9,
     "metadata": {},
     "output_type": "execute_result"
    }
   ],
   "source": [
    "dados.nunique()"
   ]
  },
  {
   "cell_type": "code",
   "execution_count": 10,
   "metadata": {
    "colab": {
     "base_uri": "https://localhost:8080/"
    },
    "id": "_MA6Rw7-5JIj",
    "outputId": "b4615966-435a-46ba-a880-f5f4e676bda5"
   },
   "outputs": [
    {
     "data": {
      "text/plain": [
       "array(['Yes', 'No', 'No, borderline diabetes', 'Yes (during pregnancy)'],\n",
       "      dtype=object)"
      ]
     },
     "execution_count": 10,
     "metadata": {},
     "output_type": "execute_result"
    }
   ],
   "source": [
    "dados['Diabetic'].unique()"
   ]
  },
  {
   "cell_type": "markdown",
   "metadata": {
    "id": "kD7nNqak5S1D"
   },
   "source": [
    "- Como podemos ver, a variável Diabetic tem 4 valores, então transformaremos os valores \"No, borderline diabetes\" (que significa pré-diabetes) para No, e, \"Yes (during pregnancy)\" para Yes. Irei aproveitar e transformarei os valores das variáveis que possuem apenas \"Yes\" ou \"No\" para \"0\" e \"1\". Já as variáveis que possuem mais de dois possíveis valores, nós trataremos posteriormente."
   ]
  },
  {
   "cell_type": "code",
   "execution_count": 11,
   "metadata": {
    "id": "eFIK3zNg5Vd9"
   },
   "outputs": [],
   "source": [
    "dados = dados[dados.columns].replace({'Yes': 1, 'No': 0, 'Male': 1, 'Female': 0, 'No, borderline diabetes': '0', 'Yes (during pregnancy)': '1'})\n",
    "dados['Diabetic'] = dados['Diabetic'].astype(int)"
   ]
  },
  {
   "cell_type": "code",
   "execution_count": 12,
   "metadata": {
    "colab": {
     "base_uri": "https://localhost:8080/"
    },
    "id": "eWNXTgQW5eO7",
    "outputId": "1cdbc1f8-2795-4fac-c4df-b64330119934"
   },
   "outputs": [
    {
     "name": "stdout",
     "output_type": "stream",
     "text": [
      "<class 'pandas.core.frame.DataFrame'>\n",
      "Int64Index: 30000 entries, 0 to 29999\n",
      "Data columns (total 18 columns):\n",
      " #   Column            Non-Null Count  Dtype  \n",
      "---  ------            --------------  -----  \n",
      " 0   HeartDisease      30000 non-null  int64  \n",
      " 1   BMI               30000 non-null  float64\n",
      " 2   Smoking           30000 non-null  int64  \n",
      " 3   AlcoholDrinking   30000 non-null  int64  \n",
      " 4   Stroke            30000 non-null  int64  \n",
      " 5   PhysicalHealth    30000 non-null  float64\n",
      " 6   MentalHealth      30000 non-null  float64\n",
      " 7   DiffWalking       30000 non-null  int64  \n",
      " 8   Sex               30000 non-null  int64  \n",
      " 9   AgeCategory       30000 non-null  object \n",
      " 10  Race              30000 non-null  object \n",
      " 11  Diabetic          30000 non-null  int32  \n",
      " 12  PhysicalActivity  30000 non-null  int64  \n",
      " 13  GenHealth         30000 non-null  object \n",
      " 14  SleepTime         30000 non-null  float64\n",
      " 15  Asthma            30000 non-null  int64  \n",
      " 16  KidneyDisease     30000 non-null  int64  \n",
      " 17  SkinCancer        30000 non-null  int64  \n",
      "dtypes: float64(4), int32(1), int64(10), object(3)\n",
      "memory usage: 4.2+ MB\n"
     ]
    }
   ],
   "source": [
    "dados.info()"
   ]
  },
  {
   "cell_type": "markdown",
   "metadata": {
    "id": "9MFodR605nRE"
   },
   "source": [
    "## Análise exploratória e visualização dos dados"
   ]
  },
  {
   "cell_type": "code",
   "execution_count": 13,
   "metadata": {
    "colab": {
     "base_uri": "https://localhost:8080/",
     "height": 554
    },
    "id": "LOvtzwJD5skv",
    "outputId": "76d6bc52-498d-4369-9ec7-65f7c25b0c07"
   },
   "outputs": [
    {
     "data": {
      "image/png": "[encoded data removed]",
      "text/plain": [
       "<Figure size 1152x576 with 1 Axes>"
      ]
     },
     "metadata": {},
     "output_type": "display_data"
    }
   ],
   "source": [
    "fig, ax = plt.subplots(figsize = (16,8))\n",
    "\n",
    "ax.hist(dados[dados[\"HeartDisease\"]==1][\"Stroke\"], bins=15, alpha=0.5, color=\"#0717E0\", label=\"Teve doença do coração\")\n",
    "ax.hist(dados[dados[\"HeartDisease\"]==0][\"Stroke\"], bins=15, alpha=0.5, color=\"#A4C1FC\", label=\"Normal\")\n",
    "\n",
    "ax.set_xlabel(\"Derrame\")\n",
    "ax.set_ylabel(\"Frequencia\")\n",
    "\n",
    "fig.suptitle(\"Distribuição dos casos de doença do coração de acordo se teve derrame ou não\")\n",
    "\n",
    "ax.legend();"
   ]
  },
  {
   "cell_type": "markdown",
   "metadata": {
    "id": "rdbZYp6L5zf1"
   },
   "source": [
    "\n",
    "- Lembrando que o número 0 significa \"Não\" e o número 1 significa \"Sim\"\n",
    "- Aqui podemos observar que poucas pessoas que foram entrevistadas tiveram derrame, mas nota-se que a maioria das pessoas que passaram por isso sofreram também de doença cardíaca."
   ]
  },
  {
   "cell_type": "code",
   "execution_count": 14,
   "metadata": {
    "colab": {
     "base_uri": "https://localhost:8080/",
     "height": 554
    },
    "id": "_gNjaiIw54EY",
    "outputId": "bc3666a0-dfd7-45d6-a489-8c9fb3e5cb39"
   },
   "outputs": [
    {
     "data": {
      "image/png": "[encoded data removed]",
      "text/plain": [
       "<Figure size 1152x576 with 1 Axes>"
      ]
     },
     "metadata": {},
     "output_type": "display_data"
    }
   ],
   "source": [
    "fig, ax = plt.subplots(figsize = (16,8))\n",
    "\n",
    "ax.hist(dados[dados[\"HeartDisease\"]==1][\"Diabetic\"], bins=15, alpha=0.5, color=\"#0717E0\", label=\"Teve doença do coração\")\n",
    "ax.hist(dados[dados[\"HeartDisease\"]==0][\"Diabetic\"], bins=15, alpha=0.5, color=\"#A4C1FC\", label=\"Normal\")\n",
    "\n",
    "ax.set_xlabel(\"Diabetes\")\n",
    "ax.set_ylabel(\"Frequencia\")\n",
    "\n",
    "fig.suptitle(\"Distribuição dos casos de doença do coração de acordo se teve diabetes ou não\")\n",
    "\n",
    "ax.legend();"
   ]
  },
  {
   "cell_type": "markdown",
   "metadata": {
    "id": "LguDh0Rh59_p"
   },
   "source": [
    "Aqui podemos observar que a maioria dos entrevistados não possuíam diabetes."
   ]
  },
  {
   "cell_type": "code",
   "execution_count": 15,
   "metadata": {
    "colab": {
     "base_uri": "https://localhost:8080/",
     "height": 554
    },
    "id": "I-Hn3fDj6BFP",
    "outputId": "3ac88b8c-5ad6-438a-f1bb-8e37f64749aa"
   },
   "outputs": [
    {
     "data": {
      "image/png": "[encoded data removed]",
      "text/plain": [
       "<Figure size 1152x576 with 1 Axes>"
      ]
     },
     "metadata": {},
     "output_type": "display_data"
    }
   ],
   "source": [
    "fig, ax = plt.subplots(figsize = (16,8))\n",
    "\n",
    "ax.hist(dados[dados[\"HeartDisease\"]==1][\"Sex\"], bins=15, alpha=0.5, color=\"#0717E0\", label=\"Teve doença do coração\")\n",
    "ax.hist(dados[dados[\"HeartDisease\"]==0][\"Sex\"], bins=15, alpha=0.5, color=\"#A4C1FC\", label=\"Normal\")\n",
    "\n",
    "ax.set_xlabel(\"Sexo\")\n",
    "ax.set_ylabel(\"Frequencia\")\n",
    "\n",
    "fig.suptitle(\"Distribuição dos casos de doença do coração de acordo com o sexo\")\n",
    "\n",
    "ax.legend();"
   ]
  },
  {
   "cell_type": "markdown",
   "metadata": {
    "id": "lXQuwS2t6FDT"
   },
   "source": [
    "- Devemos nos lembrar que classificamos o numero 0 para o gênero feminino e 1 para masculino.\n",
    "- podemos notar que:\n",
    "    - há relativamente um número maior de pacientes do gênero feminino;\n",
    "    - mesmo com um menor número de pacientes do gênero masculino, nota-se que possue uma frequência maior de doença cardíaca se comparado com as gênero feminino;"
   ]
  },
  {
   "cell_type": "code",
   "execution_count": 16,
   "metadata": {
    "colab": {
     "base_uri": "https://localhost:8080/",
     "height": 554
    },
    "id": "5_dHkJ_T6ICK",
    "outputId": "4096736d-e336-45e3-e29d-5a35672a9ace"
   },
   "outputs": [
    {
     "data": {
      "image/png": "[encoded data removed]",
      "text/plain": [
       "<Figure size 1152x576 with 1 Axes>"
      ]
     },
     "metadata": {},
     "output_type": "display_data"
    }
   ],
   "source": [
    "fig, ax = plt.subplots(figsize = (16,8))\n",
    "\n",
    "ax.hist(dados[dados[\"HeartDisease\"]==1][\"PhysicalActivity\"], bins=15, alpha=0.5, color=\"#0717E0\", label=\"Teve doença do coração\")\n",
    "ax.hist(dados[dados[\"HeartDisease\"]==0][\"PhysicalActivity\"], bins=15, alpha=0.5, color=\"#A4C1FC\", label=\"Normal\")\n",
    "\n",
    "ax.set_xlabel(\"Pratica atividade física\")\n",
    "ax.set_ylabel(\"Frequencia\")\n",
    "\n",
    "fig.suptitle(\"Distribuição dos casos de doença do coração de acordo se pratica atividade física ou não\")\n",
    "\n",
    "ax.legend();"
   ]
  },
  {
   "cell_type": "markdown",
   "metadata": {
    "id": "e8nKNWRS6M0G"
   },
   "source": [
    "- Aqui podemos ver que a maioria dos entrevistados praticaram atividade física nos últimos 30 dias. Olhando agora para as frequências podemos imaginar que quem pratica atividade física tem menos chances de possuir doença cardíaca."
   ]
  },
  {
   "cell_type": "markdown",
   "metadata": {
    "id": "u_0dGy-W6Sux"
   },
   "source": [
    "## Análise de correlação"
   ]
  },
  {
   "cell_type": "code",
   "execution_count": 17,
   "metadata": {
    "colab": {
     "base_uri": "https://localhost:8080/",
     "height": 518
    },
    "id": "x_P4cGHx6VOG",
    "outputId": "f48606c7-32bf-4d7a-ab35-9c4b851c3ee0"
   },
   "outputs": [
    {
     "data": {
      "text/plain": [
       "<AxesSubplot:>"
      ]
     },
     "execution_count": 17,
     "metadata": {},
     "output_type": "execute_result"
    },
    {
     "data": {
      "image/png": "[encoded data removed]",
      "text/plain": [
       "<Figure size 1008x504 with 2 Axes>"
      ]
     },
     "metadata": {},
     "output_type": "display_data"
    }
   ],
   "source": [
    "correlation = dados.corr().round(2)\n",
    "plt.figure(figsize = (14,7))\n",
    "sns.heatmap(correlation, annot = True, cmap = 'Blues')"
   ]
  },
  {
   "cell_type": "markdown",
   "metadata": {
    "id": "Vn6Hfyav6b6K"
   },
   "source": [
    "- Como podemos observar, nenhuma variável tem grande influência sobre outra. As variáveis que possuem a correlação mais alta são DiffWalking (dificuldade de andar) com PhysicalHealth (saúde fisica) e mesmo assim não é uma grande correlação.\n",
    "- Seguiremos com todas as variáveis para o modelos"
   ]
  },
  {
   "cell_type": "markdown",
   "metadata": {
    "id": "CkJHPExf6f6Y"
   },
   "source": [
    "## Pré-processamento dos dados"
   ]
  },
  {
   "cell_type": "markdown",
   "metadata": {
    "id": "9sGXvuSt6kqB"
   },
   "source": [
    "### Escalonamento\n",
    "\n",
    "- Para variáveis quantitativas com mais de duas categorias"
   ]
  },
  {
   "cell_type": "code",
   "execution_count": 18,
   "metadata": {
    "id": "yqx3b7DO6oBb"
   },
   "outputs": [],
   "source": [
    "from sklearn.preprocessing import StandardScaler \n",
    "num_cols = ['MentalHealth', 'BMI', 'PhysicalHealth', 'SleepTime']\n",
    "Scaler = StandardScaler()\n",
    "dados[num_cols] = Scaler.fit_transform(dados[num_cols])"
   ]
  },
  {
   "cell_type": "markdown",
   "metadata": {
    "id": "T39rL3Ot6wpc"
   },
   "source": [
    "### OneHotEncoder\n",
    "\n",
    "- Para variáveis qualitativas com mais de duas categorias"
   ]
  },
  {
   "cell_type": "code",
   "execution_count": 19,
   "metadata": {
    "id": "IA3IfQrc60AW"
   },
   "outputs": [],
   "source": [
    "from sklearn.preprocessing import OneHotEncoder \n",
    "enc = OneHotEncoder() \n",
    "\n",
    "categ = dados[['AgeCategory', 'Race', 'GenHealth']]\n",
    "encoded_categ = pd.DataFrame(enc.fit_transform(categ).toarray())\n",
    "\n",
    "dados = pd.concat([dados, encoded_categ], axis = 1)\n",
    "\n",
    "dados = dados.drop(columns = ['AgeCategory', 'Race', 'GenHealth'], axis = 1)"
   ]
  },
  {
   "cell_type": "code",
   "execution_count": 20,
   "metadata": {
    "colab": {
     "base_uri": "https://localhost:8080/"
    },
    "id": "8KGSbIEA64bS",
    "outputId": "13bf8d98-ad57-4ec1-b2f4-43941d2b5bf9"
   },
   "outputs": [
    {
     "name": "stdout",
     "output_type": "stream",
     "text": [
      "<class 'pandas.core.frame.DataFrame'>\n",
      "Int64Index: 30000 entries, 0 to 29999\n",
      "Data columns (total 39 columns):\n",
      " #   Column            Non-Null Count  Dtype  \n",
      "---  ------            --------------  -----  \n",
      " 0   HeartDisease      30000 non-null  int64  \n",
      " 1   BMI               30000 non-null  float64\n",
      " 2   Smoking           30000 non-null  int64  \n",
      " 3   AlcoholDrinking   30000 non-null  int64  \n",
      " 4   Stroke            30000 non-null  int64  \n",
      " 5   PhysicalHealth    30000 non-null  float64\n",
      " 6   MentalHealth      30000 non-null  float64\n",
      " 7   DiffWalking       30000 non-null  int64  \n",
      " 8   Sex               30000 non-null  int64  \n",
      " 9   Diabetic          30000 non-null  int32  \n",
      " 10  PhysicalActivity  30000 non-null  int64  \n",
      " 11  SleepTime         30000 non-null  float64\n",
      " 12  Asthma            30000 non-null  int64  \n",
      " 13  KidneyDisease     30000 non-null  int64  \n",
      " 14  SkinCancer        30000 non-null  int64  \n",
      " 15  0                 30000 non-null  float64\n",
      " 16  1                 30000 non-null  float64\n",
      " 17  2                 30000 non-null  float64\n",
      " 18  3                 30000 non-null  float64\n",
      " 19  4                 30000 non-null  float64\n",
      " 20  5                 30000 non-null  float64\n",
      " 21  6                 30000 non-null  float64\n",
      " 22  7                 30000 non-null  float64\n",
      " 23  8                 30000 non-null  float64\n",
      " 24  9                 30000 non-null  float64\n",
      " 25  10                30000 non-null  float64\n",
      " 26  11                30000 non-null  float64\n",
      " 27  12                30000 non-null  float64\n",
      " 28  13                30000 non-null  float64\n",
      " 29  14                30000 non-null  float64\n",
      " 30  15                30000 non-null  float64\n",
      " 31  16                30000 non-null  float64\n",
      " 32  17                30000 non-null  float64\n",
      " 33  18                30000 non-null  float64\n",
      " 34  19                30000 non-null  float64\n",
      " 35  20                30000 non-null  float64\n",
      " 36  21                30000 non-null  float64\n",
      " 37  22                30000 non-null  float64\n",
      " 38  23                30000 non-null  float64\n",
      "dtypes: float64(28), int32(1), int64(10)\n",
      "memory usage: 9.0 MB\n"
     ]
    }
   ],
   "source": [
    "dados.info()"
   ]
  },
  {
   "cell_type": "markdown",
   "metadata": {
    "id": "Li_vAm7i8xLW"
   },
   "source": [
    "Podemos ver acima que foram adicionadas novas colunas. Essas colunas (0, 1, ..., 23) são provenientes do OneHotEncoder. "
   ]
  },
  {
   "cell_type": "markdown",
   "metadata": {
    "id": "cfT4YAY368MN"
   },
   "source": [
    "## Dividindo o conjunto de dados em variáveis explicativas e variável respota. Nesse caso a nossa variável de interesse (variável resposta) é a HearthDisease"
   ]
  },
  {
   "cell_type": "code",
   "execution_count": 21,
   "metadata": {
    "id": "q4p9WDdg6_LC"
   },
   "outputs": [],
   "source": [
    "explicativas = dados.drop(columns =['HeartDisease'], axis = 1)\n",
    "resposta = dados['HeartDisease']\n",
    "\n",
    "explicativas = round(explicativas, 10).values\n",
    "resposta = round(resposta, 10).values"
   ]
  },
  {
   "cell_type": "markdown",
   "metadata": {
    "id": "IRYVeMFw_Oh-"
   },
   "source": [
    "Aqui eu arredondei em dez casas decimais todos os números pois haviam valores com uma quantidade de casas decimais muito grande, que fazia com que algumas etapas não pudessem ser feitas, como por exemplo no GridSearchCV."
   ]
  },
  {
   "cell_type": "markdown",
   "metadata": {
    "id": "o5NhqtDm7Fem"
   },
   "source": [
    "## Selecionando os melhores parâmetros com GridSearchCV"
   ]
  },
  {
   "cell_type": "markdown",
   "metadata": {
    "id": "5T-DeSaY7LaR"
   },
   "source": [
    "### Decision Tree"
   ]
  },
  {
   "cell_type": "code",
   "execution_count": 22,
   "metadata": {
    "id": "lLl1oTvC7Nt-"
   },
   "outputs": [],
   "source": [
    "parametros = {'criterion': ['gini', 'entropy'],\n",
    "              'splitter': ['best', 'random'],\n",
    "              'min_samples_split': [2, 5, 10, 20],\n",
    "              'min_samples_leaf': [1, 5, 10, 20]}"
   ]
  },
  {
   "cell_type": "code",
   "execution_count": 23,
   "metadata": {
    "colab": {
     "base_uri": "https://localhost:8080/"
    },
    "id": "ZhaKJzWL7Qyh",
    "outputId": "5b938bc1-2886-4440-90f4-a0985a229548"
   },
   "outputs": [
    {
     "name": "stdout",
     "output_type": "stream",
     "text": [
      "{'criterion': 'entropy', 'min_samples_leaf': 20, 'min_samples_split': 5, 'splitter': 'random'}\n",
      "0.9112333333333333\n"
     ]
    }
   ],
   "source": [
    "grid_search = GridSearchCV(estimator=DecisionTreeClassifier(), param_grid=parametros)\n",
    "grid_search.fit(explicativas, resposta)\n",
    "melhores_parametros = grid_search.best_params_\n",
    "melhor_resultado = grid_search.best_score_\n",
    "print(melhores_parametros)\n",
    "print(melhor_resultado)"
   ]
  },
  {
   "cell_type": "markdown",
   "metadata": {
    "id": "k66q4GYN7rJx"
   },
   "source": [
    "### Random Forest"
   ]
  },
  {
   "cell_type": "code",
   "execution_count": 10,
   "metadata": {
    "id": "UwmwgUKP7u_Q"
   },
   "outputs": [],
   "source": [
    "parametros = {'criterion': ['gini', 'entropy'],\n",
    "              'n_estimators': [10, 20, 40, 80, 150],\n",
    "              'min_samples_split': [2, 5, 10, 20],\n",
    "              'min_samples_leaf': [1, 5, 10, 20]}"
   ]
  },
  {
   "cell_type": "code",
   "execution_count": 11,
   "metadata": {
    "colab": {
     "base_uri": "https://localhost:8080/"
    },
    "id": "SgTOOBuj7yKP",
    "outputId": "ca96120b-2420-456b-e718-9ae58a0353aa"
   },
   "outputs": [
    {
     "name": "stdout",
     "output_type": "stream",
     "text": [
      "{'criterion': 'gini', 'min_samples_leaf': 1, 'min_samples_split': 20, 'n_estimators': 150}\n",
      "0.9146333333333334\n"
     ]
    }
   ],
   "source": [
    "grid_search = GridSearchCV(estimator=RandomForestClassifier(), param_grid=parametros)\n",
    "grid_search.fit(explicativas, resposta)\n",
    "melhores_parametros = grid_search.best_params_\n",
    "melhor_resultado = grid_search.best_score_\n",
    "print(melhores_parametros)\n",
    "print(melhor_resultado)"
   ]
  },
  {
   "cell_type": "markdown",
   "metadata": {
    "id": "G7GxgtJrAO6L"
   },
   "source": [
    "### K-Nearest Neighbors (KNN)"
   ]
  },
  {
   "cell_type": "code",
   "execution_count": 26,
   "metadata": {
    "id": "2Veez-9qAQH5"
   },
   "outputs": [],
   "source": [
    "parametros = {'weights': ['uniform', 'distance'],\n",
    "              'n_neighbors': [2, 4, 8],\n",
    "              'p': [1, 2, 5]}"
   ]
  },
  {
   "cell_type": "code",
   "execution_count": 25,
   "metadata": {
    "id": "te4cyvdoAW5W"
   },
   "outputs": [
    {
     "name": "stdout",
     "output_type": "stream",
     "text": [
      "{'n_neighbors': 8, 'p': 2, 'weights': 'uniform'}\n",
      "0.9111333333333332\n"
     ]
    }
   ],
   "source": [
    "grid_search = GridSearchCV(estimator=KNeighborsClassifier(), param_grid=parametros)\n",
    "grid_search.fit(explicativas, resposta)\n",
    "melhores_parametros = grid_search.best_params_\n",
    "melhor_resultado = grid_search.best_score_\n",
    "print(melhores_parametros)\n",
    "print(melhor_resultado)"
   ]
  },
  {
   "cell_type": "markdown",
   "metadata": {
    "id": "YjMqlzbQBSre"
   },
   "source": [
    "\n",
    "### Regressão Logística"
   ]
  },
  {
   "cell_type": "code",
   "execution_count": 27,
   "metadata": {
    "id": "7YB96XIdBTry"
   },
   "outputs": [],
   "source": [
    "parametros = {'tol': [0.0001, 0.00001, 0.000001],\n",
    "              'C': [1.0, 1.5, 2.0],\n",
    "              'solver': ['lbfgs', 'sag', 'saga']}"
   ]
  },
  {
   "cell_type": "code",
   "execution_count": 31,
   "metadata": {
    "colab": {
     "base_uri": "https://localhost:8080/"
    },
    "id": "o36z9DzcBWrT",
    "outputId": "453c8a69-3993-44ae-d367-add02d2201fd"
   },
   "outputs": [
    {
     "name": "stdout",
     "output_type": "stream",
     "text": [
      "{'C': 1.0, 'solver': 'lbfgs', 'tol': 0.0001}\n",
      "0.9140666666666666\n"
     ]
    }
   ],
   "source": [
    "warnings.filterwarnings('ignore')\n",
    "\n",
    "grid_search = GridSearchCV(estimator=LogisticRegression(), param_grid=parametros)\n",
    "grid_search.fit(explicativas, resposta)\n",
    "melhores_parametros = grid_search.best_params_\n",
    "melhor_resultado = grid_search.best_score_\n",
    "print(melhores_parametros)\n",
    "print(melhor_resultado)"
   ]
  },
  {
   "cell_type": "markdown",
   "metadata": {
    "id": "olzsPf_mCEOa",
    "tags": []
   },
   "source": [
    "## Cross-Validation"
   ]
  },
  {
   "cell_type": "code",
   "execution_count": 32,
   "metadata": {
    "colab": {
     "base_uri": "https://localhost:8080/"
    },
    "id": "_OIr2jw3CH4S",
    "outputId": "c33d77f7-38d1-4172-ed13-b4905c929f10"
   },
   "outputs": [
    {
     "name": "stdout",
     "output_type": "stream",
     "text": [
      "0\n",
      "1\n",
      "2\n",
      "3\n",
      "4\n",
      "5\n",
      "6\n",
      "7\n",
      "8\n",
      "9\n",
      "10\n",
      "11\n",
      "12\n",
      "13\n",
      "14\n",
      "15\n",
      "16\n",
      "17\n",
      "18\n",
      "19\n",
      "20\n",
      "21\n",
      "22\n",
      "23\n",
      "24\n",
      "25\n",
      "26\n",
      "27\n",
      "28\n",
      "29\n"
     ]
    }
   ],
   "source": [
    "warnings.filterwarnings('ignore')\n",
    "\n",
    "resultados_arvore = []\n",
    "resultados_floresta = []\n",
    "resultados_knn = []\n",
    "resultados_logistica = []\n",
    "\n",
    "for i in range(30):\n",
    "  print(i)\n",
    "  kfold = KFold(n_splits=10, shuffle=True, random_state=i)\n",
    "\n",
    "  #decision tree\n",
    "  arvore = DecisionTreeClassifier(criterion = 'entropy', min_samples_leaf = 20, min_samples_split = 5, splitter = 'random')\n",
    "  scores = cross_val_score(arvore, explicativas, resposta, cv = kfold)\n",
    "  resultados_arvore.append(scores.mean())\n",
    "\n",
    "  #random forest\n",
    "  forest = RandomForestClassifier(criterion = 'gini', min_samples_leaf = 1, min_samples_split = 20, n_estimators = 150)\n",
    "  scores = cross_val_score(forest, explicativas, resposta, cv = kfold)\n",
    "  resultados_floresta.append(scores.mean())\n",
    "\n",
    "  #knn\n",
    "  knn = KNeighborsClassifier(n_neighbors = 8, p = 2, weights = 'uniform')\n",
    "  scores = cross_val_score(knn, explicativas, resposta, cv = kfold)\n",
    "  resultados_knn.append(scores.mean())\n",
    "    \n",
    "  #regressão logistica\n",
    "  logistica = LogisticRegression(C = 1.0, solver = 'lbfgs', tol = 0.0001)\n",
    "  scores = cross_val_score(logistica, explicativas, resposta, cv = kfold)\n",
    "  resultados_logistica.append(scores.mean())\n",
    "\n",
    "\n",
    "\n"
   ]
  },
  {
   "cell_type": "code",
   "execution_count": 33,
   "metadata": {
    "colab": {
     "base_uri": "https://localhost:8080/",
     "height": 990
    },
    "id": "iLXt1XSfNELV",
    "outputId": "032f814c-a731-42b8-8978-5c88075b62e6"
   },
   "outputs": [
    {
     "data": {
      "text/html": [
       "<div>\n",
       "<style scoped>\n",
       "    .dataframe tbody tr th:only-of-type {\n",
       "        vertical-align: middle;\n",
       "    }\n",
       "\n",
       "    .dataframe tbody tr th {\n",
       "        vertical-align: top;\n",
       "    }\n",
       "\n",
       "    .dataframe thead th {\n",
       "        text-align: right;\n",
       "    }\n",
       "</style>\n",
       "<table border=\"1\" class=\"dataframe\">\n",
       "  <thead>\n",
       "    <tr style=\"text-align: right;\">\n",
       "      <th></th>\n",
       "      <th>Arvore</th>\n",
       "      <th>Random forest</th>\n",
       "      <th>KNN</th>\n",
       "      <th>Logistica</th>\n",
       "    </tr>\n",
       "  </thead>\n",
       "  <tbody>\n",
       "    <tr>\n",
       "      <th>0</th>\n",
       "      <td>0.912867</td>\n",
       "      <td>0.914900</td>\n",
       "      <td>0.912300</td>\n",
       "      <td>0.914900</td>\n",
       "    </tr>\n",
       "    <tr>\n",
       "      <th>1</th>\n",
       "      <td>0.911800</td>\n",
       "      <td>0.915033</td>\n",
       "      <td>0.912133</td>\n",
       "      <td>0.914500</td>\n",
       "    </tr>\n",
       "    <tr>\n",
       "      <th>2</th>\n",
       "      <td>0.911567</td>\n",
       "      <td>0.915000</td>\n",
       "      <td>0.911800</td>\n",
       "      <td>0.914267</td>\n",
       "    </tr>\n",
       "    <tr>\n",
       "      <th>3</th>\n",
       "      <td>0.911800</td>\n",
       "      <td>0.914300</td>\n",
       "      <td>0.911467</td>\n",
       "      <td>0.914700</td>\n",
       "    </tr>\n",
       "    <tr>\n",
       "      <th>4</th>\n",
       "      <td>0.913133</td>\n",
       "      <td>0.914533</td>\n",
       "      <td>0.911900</td>\n",
       "      <td>0.914733</td>\n",
       "    </tr>\n",
       "    <tr>\n",
       "      <th>5</th>\n",
       "      <td>0.912567</td>\n",
       "      <td>0.914700</td>\n",
       "      <td>0.911533</td>\n",
       "      <td>0.914600</td>\n",
       "    </tr>\n",
       "    <tr>\n",
       "      <th>6</th>\n",
       "      <td>0.911333</td>\n",
       "      <td>0.914933</td>\n",
       "      <td>0.911733</td>\n",
       "      <td>0.914500</td>\n",
       "    </tr>\n",
       "    <tr>\n",
       "      <th>7</th>\n",
       "      <td>0.911500</td>\n",
       "      <td>0.914600</td>\n",
       "      <td>0.912033</td>\n",
       "      <td>0.914467</td>\n",
       "    </tr>\n",
       "    <tr>\n",
       "      <th>8</th>\n",
       "      <td>0.911567</td>\n",
       "      <td>0.914533</td>\n",
       "      <td>0.911767</td>\n",
       "      <td>0.914533</td>\n",
       "    </tr>\n",
       "    <tr>\n",
       "      <th>9</th>\n",
       "      <td>0.911900</td>\n",
       "      <td>0.915133</td>\n",
       "      <td>0.912400</td>\n",
       "      <td>0.914400</td>\n",
       "    </tr>\n",
       "    <tr>\n",
       "      <th>10</th>\n",
       "      <td>0.912067</td>\n",
       "      <td>0.915067</td>\n",
       "      <td>0.911600</td>\n",
       "      <td>0.914500</td>\n",
       "    </tr>\n",
       "    <tr>\n",
       "      <th>11</th>\n",
       "      <td>0.911733</td>\n",
       "      <td>0.914933</td>\n",
       "      <td>0.911600</td>\n",
       "      <td>0.914267</td>\n",
       "    </tr>\n",
       "    <tr>\n",
       "      <th>12</th>\n",
       "      <td>0.911900</td>\n",
       "      <td>0.914567</td>\n",
       "      <td>0.911367</td>\n",
       "      <td>0.914500</td>\n",
       "    </tr>\n",
       "    <tr>\n",
       "      <th>13</th>\n",
       "      <td>0.911600</td>\n",
       "      <td>0.914600</td>\n",
       "      <td>0.911833</td>\n",
       "      <td>0.914367</td>\n",
       "    </tr>\n",
       "    <tr>\n",
       "      <th>14</th>\n",
       "      <td>0.913067</td>\n",
       "      <td>0.914667</td>\n",
       "      <td>0.911733</td>\n",
       "      <td>0.914767</td>\n",
       "    </tr>\n",
       "    <tr>\n",
       "      <th>15</th>\n",
       "      <td>0.912833</td>\n",
       "      <td>0.914867</td>\n",
       "      <td>0.912000</td>\n",
       "      <td>0.914733</td>\n",
       "    </tr>\n",
       "    <tr>\n",
       "      <th>16</th>\n",
       "      <td>0.911767</td>\n",
       "      <td>0.914700</td>\n",
       "      <td>0.911600</td>\n",
       "      <td>0.914767</td>\n",
       "    </tr>\n",
       "    <tr>\n",
       "      <th>17</th>\n",
       "      <td>0.911500</td>\n",
       "      <td>0.914400</td>\n",
       "      <td>0.911900</td>\n",
       "      <td>0.914633</td>\n",
       "    </tr>\n",
       "    <tr>\n",
       "      <th>18</th>\n",
       "      <td>0.911467</td>\n",
       "      <td>0.914600</td>\n",
       "      <td>0.912467</td>\n",
       "      <td>0.914800</td>\n",
       "    </tr>\n",
       "    <tr>\n",
       "      <th>19</th>\n",
       "      <td>0.912367</td>\n",
       "      <td>0.914833</td>\n",
       "      <td>0.911433</td>\n",
       "      <td>0.914367</td>\n",
       "    </tr>\n",
       "    <tr>\n",
       "      <th>20</th>\n",
       "      <td>0.911067</td>\n",
       "      <td>0.914700</td>\n",
       "      <td>0.911767</td>\n",
       "      <td>0.914533</td>\n",
       "    </tr>\n",
       "    <tr>\n",
       "      <th>21</th>\n",
       "      <td>0.912033</td>\n",
       "      <td>0.914833</td>\n",
       "      <td>0.912267</td>\n",
       "      <td>0.914567</td>\n",
       "    </tr>\n",
       "    <tr>\n",
       "      <th>22</th>\n",
       "      <td>0.912167</td>\n",
       "      <td>0.914467</td>\n",
       "      <td>0.911633</td>\n",
       "      <td>0.914633</td>\n",
       "    </tr>\n",
       "    <tr>\n",
       "      <th>23</th>\n",
       "      <td>0.911900</td>\n",
       "      <td>0.914767</td>\n",
       "      <td>0.911667</td>\n",
       "      <td>0.914500</td>\n",
       "    </tr>\n",
       "    <tr>\n",
       "      <th>24</th>\n",
       "      <td>0.912767</td>\n",
       "      <td>0.914933</td>\n",
       "      <td>0.912100</td>\n",
       "      <td>0.914500</td>\n",
       "    </tr>\n",
       "    <tr>\n",
       "      <th>25</th>\n",
       "      <td>0.911400</td>\n",
       "      <td>0.915000</td>\n",
       "      <td>0.912200</td>\n",
       "      <td>0.914500</td>\n",
       "    </tr>\n",
       "    <tr>\n",
       "      <th>26</th>\n",
       "      <td>0.911000</td>\n",
       "      <td>0.914533</td>\n",
       "      <td>0.912000</td>\n",
       "      <td>0.914433</td>\n",
       "    </tr>\n",
       "    <tr>\n",
       "      <th>27</th>\n",
       "      <td>0.911633</td>\n",
       "      <td>0.914700</td>\n",
       "      <td>0.912233</td>\n",
       "      <td>0.914533</td>\n",
       "    </tr>\n",
       "    <tr>\n",
       "      <th>28</th>\n",
       "      <td>0.912233</td>\n",
       "      <td>0.914467</td>\n",
       "      <td>0.911800</td>\n",
       "      <td>0.914833</td>\n",
       "    </tr>\n",
       "    <tr>\n",
       "      <th>29</th>\n",
       "      <td>0.911500</td>\n",
       "      <td>0.914700</td>\n",
       "      <td>0.911633</td>\n",
       "      <td>0.914400</td>\n",
       "    </tr>\n",
       "  </tbody>\n",
       "</table>\n",
       "</div>"
      ],
      "text/plain": [
       "      Arvore  Random forest       KNN  Logistica\n",
       "0   0.912867       0.914900  0.912300   0.914900\n",
       "1   0.911800       0.915033  0.912133   0.914500\n",
       "2   0.911567       0.915000  0.911800   0.914267\n",
       "3   0.911800       0.914300  0.911467   0.914700\n",
       "4   0.913133       0.914533  0.911900   0.914733\n",
       "5   0.912567       0.914700  0.911533   0.914600\n",
       "6   0.911333       0.914933  0.911733   0.914500\n",
       "7   0.911500       0.914600  0.912033   0.914467\n",
       "8   0.911567       0.914533  0.911767   0.914533\n",
       "9   0.911900       0.915133  0.912400   0.914400\n",
       "10  0.912067       0.915067  0.911600   0.914500\n",
       "11  0.911733       0.914933  0.911600   0.914267\n",
       "12  0.911900       0.914567  0.911367   0.914500\n",
       "13  0.911600       0.914600  0.911833   0.914367\n",
       "14  0.913067       0.914667  0.911733   0.914767\n",
       "15  0.912833       0.914867  0.912000   0.914733\n",
       "16  0.911767       0.914700  0.911600   0.914767\n",
       "17  0.911500       0.914400  0.911900   0.914633\n",
       "18  0.911467       0.914600  0.912467   0.914800\n",
       "19  0.912367       0.914833  0.911433   0.914367\n",
       "20  0.911067       0.914700  0.911767   0.914533\n",
       "21  0.912033       0.914833  0.912267   0.914567\n",
       "22  0.912167       0.914467  0.911633   0.914633\n",
       "23  0.911900       0.914767  0.911667   0.914500\n",
       "24  0.912767       0.914933  0.912100   0.914500\n",
       "25  0.911400       0.915000  0.912200   0.914500\n",
       "26  0.911000       0.914533  0.912000   0.914433\n",
       "27  0.911633       0.914700  0.912233   0.914533\n",
       "28  0.912233       0.914467  0.911800   0.914833\n",
       "29  0.911500       0.914700  0.911633   0.914400"
      ]
     },
     "execution_count": 33,
     "metadata": {},
     "output_type": "execute_result"
    }
   ],
   "source": [
    "resultados = pd.DataFrame({'Arvore': resultados_arvore, 'Random forest': resultados_floresta,\n",
    "                           'KNN': resultados_knn, 'Logistica': resultados_logistica})\n",
    "resultados"
   ]
  },
  {
   "cell_type": "code",
   "execution_count": 34,
   "metadata": {
    "colab": {
     "base_uri": "https://localhost:8080/",
     "height": 300
    },
    "id": "qWIosfVSNUgy",
    "outputId": "f212e20e-a00c-4cd3-87bc-a5bdb22c21e7"
   },
   "outputs": [
    {
     "data": {
      "text/html": [
       "<div>\n",
       "<style scoped>\n",
       "    .dataframe tbody tr th:only-of-type {\n",
       "        vertical-align: middle;\n",
       "    }\n",
       "\n",
       "    .dataframe tbody tr th {\n",
       "        vertical-align: top;\n",
       "    }\n",
       "\n",
       "    .dataframe thead th {\n",
       "        text-align: right;\n",
       "    }\n",
       "</style>\n",
       "<table border=\"1\" class=\"dataframe\">\n",
       "  <thead>\n",
       "    <tr style=\"text-align: right;\">\n",
       "      <th></th>\n",
       "      <th>Arvore</th>\n",
       "      <th>Random forest</th>\n",
       "      <th>KNN</th>\n",
       "      <th>Logistica</th>\n",
       "    </tr>\n",
       "  </thead>\n",
       "  <tbody>\n",
       "    <tr>\n",
       "      <th>count</th>\n",
       "      <td>30.000000</td>\n",
       "      <td>30.000000</td>\n",
       "      <td>30.000000</td>\n",
       "      <td>30.000000</td>\n",
       "    </tr>\n",
       "    <tr>\n",
       "      <th>mean</th>\n",
       "      <td>0.911934</td>\n",
       "      <td>0.914733</td>\n",
       "      <td>0.911863</td>\n",
       "      <td>0.914558</td>\n",
       "    </tr>\n",
       "    <tr>\n",
       "      <th>std</th>\n",
       "      <td>0.000572</td>\n",
       "      <td>0.000215</td>\n",
       "      <td>0.000297</td>\n",
       "      <td>0.000164</td>\n",
       "    </tr>\n",
       "    <tr>\n",
       "      <th>min</th>\n",
       "      <td>0.911000</td>\n",
       "      <td>0.914300</td>\n",
       "      <td>0.911367</td>\n",
       "      <td>0.914267</td>\n",
       "    </tr>\n",
       "    <tr>\n",
       "      <th>25%</th>\n",
       "      <td>0.911517</td>\n",
       "      <td>0.914575</td>\n",
       "      <td>0.911633</td>\n",
       "      <td>0.914475</td>\n",
       "    </tr>\n",
       "    <tr>\n",
       "      <th>50%</th>\n",
       "      <td>0.911800</td>\n",
       "      <td>0.914700</td>\n",
       "      <td>0.911800</td>\n",
       "      <td>0.914517</td>\n",
       "    </tr>\n",
       "    <tr>\n",
       "      <th>75%</th>\n",
       "      <td>0.912217</td>\n",
       "      <td>0.914925</td>\n",
       "      <td>0.912083</td>\n",
       "      <td>0.914683</td>\n",
       "    </tr>\n",
       "    <tr>\n",
       "      <th>max</th>\n",
       "      <td>0.913133</td>\n",
       "      <td>0.915133</td>\n",
       "      <td>0.912467</td>\n",
       "      <td>0.914900</td>\n",
       "    </tr>\n",
       "  </tbody>\n",
       "</table>\n",
       "</div>"
      ],
      "text/plain": [
       "          Arvore  Random forest        KNN  Logistica\n",
       "count  30.000000      30.000000  30.000000  30.000000\n",
       "mean    0.911934       0.914733   0.911863   0.914558\n",
       "std     0.000572       0.000215   0.000297   0.000164\n",
       "min     0.911000       0.914300   0.911367   0.914267\n",
       "25%     0.911517       0.914575   0.911633   0.914475\n",
       "50%     0.911800       0.914700   0.911800   0.914517\n",
       "75%     0.912217       0.914925   0.912083   0.914683\n",
       "max     0.913133       0.915133   0.912467   0.914900"
      ]
     },
     "execution_count": 34,
     "metadata": {},
     "output_type": "execute_result"
    }
   ],
   "source": [
    "resultados.describe()"
   ]
  },
  {
   "cell_type": "markdown",
   "metadata": {
    "id": "9qktXKB8Niuw"
   },
   "source": [
    "## Teste de normalidade dos resultados"
   ]
  },
  {
   "cell_type": "code",
   "execution_count": 35,
   "metadata": {
    "colab": {
     "base_uri": "https://localhost:8080/"
    },
    "id": "unw3u1dFNqH4",
    "outputId": "dfefeaec-0450-4c02-da5e-80bf86d0a276"
   },
   "outputs": [
    {
     "data": {
      "text/plain": [
       "(ShapiroResult(statistic=0.9356299638748169, pvalue=0.06940416246652603),\n",
       " ShapiroResult(statistic=0.9740755558013916, pvalue=0.6555191278457642),\n",
       " ShapiroResult(statistic=0.9646760821342468, pvalue=0.4053846597671509),\n",
       " ShapiroResult(statistic=0.9609346389770508, pvalue=0.32722005248069763))"
      ]
     },
     "execution_count": 35,
     "metadata": {},
     "output_type": "execute_result"
    }
   ],
   "source": [
    "shapiro(resultados_arvore), shapiro(resultados_floresta), shapiro(resultados_knn), shapiro(resultados_logistica)"
   ]
  },
  {
   "cell_type": "code",
   "execution_count": 36,
   "metadata": {
    "colab": {
     "base_uri": "https://localhost:8080/",
     "height": 369
    },
    "id": "3ln4yujaN7pf",
    "outputId": "6d20a959-4083-42fa-91aa-7df5aceac47b"
   },
   "outputs": [
    {
     "data": {
      "image/png": "[encoded data removed]",
      "text/plain": [
       "<Figure size 360x360 with 1 Axes>"
      ]
     },
     "metadata": {},
     "output_type": "display_data"
    }
   ],
   "source": [
    "sns.displot(resultados_arvore, kind = 'kde');"
   ]
  },
  {
   "cell_type": "code",
   "execution_count": 37,
   "metadata": {
    "colab": {
     "base_uri": "https://localhost:8080/",
     "height": 369
    },
    "id": "ZvKCYSqbN-rQ",
    "outputId": "5b0e2700-fa76-44d1-9705-b3f68e293950"
   },
   "outputs": [
    {
     "data": {
      "image/png": "[encoded data removed]",
      "text/plain": [
       "<Figure size 360x360 with 1 Axes>"
      ]
     },
     "metadata": {},
     "output_type": "display_data"
    }
   ],
   "source": [
    "sns.displot(resultados_floresta, kind = 'kde');"
   ]
  },
  {
   "cell_type": "code",
   "execution_count": 38,
   "metadata": {
    "colab": {
     "base_uri": "https://localhost:8080/",
     "height": 369
    },
    "id": "XIGsmDYZOCbr",
    "outputId": "cab70503-8438-4401-d1e0-0e5c28ad3571"
   },
   "outputs": [
    {
     "data": {
      "image/png": "[encoded data removed]",
      "text/plain": [
       "<Figure size 360x360 with 1 Axes>"
      ]
     },
     "metadata": {},
     "output_type": "display_data"
    }
   ],
   "source": [
    "sns.displot(resultados_knn, kind = 'kde');"
   ]
  },
  {
   "cell_type": "code",
   "execution_count": 39,
   "metadata": {
    "colab": {
     "base_uri": "https://localhost:8080/",
     "height": 369
    },
    "id": "6ZEJVH2yOFyQ",
    "outputId": "a8e809ec-7b29-4a52-cad4-d3192c519f1f"
   },
   "outputs": [
    {
     "data": {
      "image/png": "[encoded data removed]",
      "text/plain": [
       "<Figure size 360x360 with 1 Axes>"
      ]
     },
     "metadata": {},
     "output_type": "display_data"
    }
   ],
   "source": [
    "sns.displot(resultados_logistica, kind = 'kde');"
   ]
  },
  {
   "cell_type": "markdown",
   "metadata": {
    "id": "yS9dQwPfW8dl"
   },
   "source": [
    "No teste de Shapiro-Wilk temos que a hipótese nula é que os dados seguem normalidade, dito isso, podemos afirmar que nós não rejeitamos a hipótese nula com 95% de confiança, pois todos os valores de 'p' obtidos através do teste foram maiores que 0,05."
   ]
  },
  {
   "cell_type": "markdown",
   "metadata": {
    "id": "_9GHZBpzOMc_",
    "tags": []
   },
   "source": [
    "## Teste de hipótese com ANOVA e teste Tukey"
   ]
  },
  {
   "cell_type": "code",
   "execution_count": 40,
   "metadata": {
    "id": "v5ARmg5_QBM7"
   },
   "outputs": [],
   "source": [
    "resultados_algoritmos = {'accuracy': np.concatenate([resultados_arvore, resultados_floresta, resultados_knn, resultados_logistica]),\n",
    "                         'algoritmo': ['arvore','arvore','arvore','arvore','arvore','arvore','arvore','arvore','arvore','arvore','arvore','arvore','arvore','arvore','arvore','arvore','arvore','arvore','arvore','arvore','arvore','arvore','arvore','arvore','arvore','arvore','arvore','arvore','arvore','arvore', \n",
    "                          'random_forest','random_forest','random_forest','random_forest','random_forest','random_forest','random_forest','random_forest','random_forest','random_forest','random_forest','random_forest','random_forest','random_forest','random_forest','random_forest','random_forest','random_forest','random_forest','random_forest','random_forest','random_forest','random_forest','random_forest','random_forest','random_forest','random_forest','random_forest','random_forest','random_forest', \n",
    "                          'knn','knn','knn','knn','knn','knn','knn','knn','knn','knn','knn','knn','knn','knn','knn','knn','knn','knn','knn','knn','knn','knn','knn','knn','knn','knn','knn','knn','knn','knn', \n",
    "                          'logistica','logistica','logistica','logistica','logistica','logistica','logistica','logistica','logistica','logistica','logistica','logistica','logistica','logistica','logistica','logistica','logistica','logistica','logistica','logistica','logistica','logistica','logistica','logistica','logistica','logistica','logistica','logistica','logistica','logistica']}"
   ]
  },
  {
   "cell_type": "code",
   "execution_count": 41,
   "metadata": {
    "colab": {
     "base_uri": "https://localhost:8080/",
     "height": 423
    },
    "id": "0owPOPTJRAcV",
    "outputId": "b1d384d1-0401-476f-a389-fe0c0c916ef6"
   },
   "outputs": [
    {
     "data": {
      "text/html": [
       "<div>\n",
       "<style scoped>\n",
       "    .dataframe tbody tr th:only-of-type {\n",
       "        vertical-align: middle;\n",
       "    }\n",
       "\n",
       "    .dataframe tbody tr th {\n",
       "        vertical-align: top;\n",
       "    }\n",
       "\n",
       "    .dataframe thead th {\n",
       "        text-align: right;\n",
       "    }\n",
       "</style>\n",
       "<table border=\"1\" class=\"dataframe\">\n",
       "  <thead>\n",
       "    <tr style=\"text-align: right;\">\n",
       "      <th></th>\n",
       "      <th>accuracy</th>\n",
       "      <th>algoritmo</th>\n",
       "    </tr>\n",
       "  </thead>\n",
       "  <tbody>\n",
       "    <tr>\n",
       "      <th>0</th>\n",
       "      <td>0.912867</td>\n",
       "      <td>arvore</td>\n",
       "    </tr>\n",
       "    <tr>\n",
       "      <th>1</th>\n",
       "      <td>0.911800</td>\n",
       "      <td>arvore</td>\n",
       "    </tr>\n",
       "    <tr>\n",
       "      <th>2</th>\n",
       "      <td>0.911567</td>\n",
       "      <td>arvore</td>\n",
       "    </tr>\n",
       "    <tr>\n",
       "      <th>3</th>\n",
       "      <td>0.911800</td>\n",
       "      <td>arvore</td>\n",
       "    </tr>\n",
       "    <tr>\n",
       "      <th>4</th>\n",
       "      <td>0.913133</td>\n",
       "      <td>arvore</td>\n",
       "    </tr>\n",
       "    <tr>\n",
       "      <th>...</th>\n",
       "      <td>...</td>\n",
       "      <td>...</td>\n",
       "    </tr>\n",
       "    <tr>\n",
       "      <th>115</th>\n",
       "      <td>0.914500</td>\n",
       "      <td>logistica</td>\n",
       "    </tr>\n",
       "    <tr>\n",
       "      <th>116</th>\n",
       "      <td>0.914433</td>\n",
       "      <td>logistica</td>\n",
       "    </tr>\n",
       "    <tr>\n",
       "      <th>117</th>\n",
       "      <td>0.914533</td>\n",
       "      <td>logistica</td>\n",
       "    </tr>\n",
       "    <tr>\n",
       "      <th>118</th>\n",
       "      <td>0.914833</td>\n",
       "      <td>logistica</td>\n",
       "    </tr>\n",
       "    <tr>\n",
       "      <th>119</th>\n",
       "      <td>0.914400</td>\n",
       "      <td>logistica</td>\n",
       "    </tr>\n",
       "  </tbody>\n",
       "</table>\n",
       "<p>120 rows × 2 columns</p>\n",
       "</div>"
      ],
      "text/plain": [
       "     accuracy  algoritmo\n",
       "0    0.912867     arvore\n",
       "1    0.911800     arvore\n",
       "2    0.911567     arvore\n",
       "3    0.911800     arvore\n",
       "4    0.913133     arvore\n",
       "..        ...        ...\n",
       "115  0.914500  logistica\n",
       "116  0.914433  logistica\n",
       "117  0.914533  logistica\n",
       "118  0.914833  logistica\n",
       "119  0.914400  logistica\n",
       "\n",
       "[120 rows x 2 columns]"
      ]
     },
     "execution_count": 41,
     "metadata": {},
     "output_type": "execute_result"
    }
   ],
   "source": [
    "resultados_df = pd.DataFrame(resultados_algoritmos)\n",
    "resultados_df"
   ]
  },
  {
   "cell_type": "code",
   "execution_count": 42,
   "metadata": {
    "id": "RRAHV-qJRH4Q"
   },
   "outputs": [],
   "source": [
    "compara_algoritmos = MultiComparison(resultados_df['accuracy'], resultados_df['algoritmo'])"
   ]
  },
  {
   "cell_type": "code",
   "execution_count": 43,
   "metadata": {
    "colab": {
     "base_uri": "https://localhost:8080/"
    },
    "id": "yoafKcvCRMSz",
    "outputId": "0451ae8c-369c-48ab-e735-91cb13f5e1b8"
   },
   "outputs": [
    {
     "name": "stdout",
     "output_type": "stream",
     "text": [
      "     Multiple Comparison of Means - Tukey HSD, FWER=0.05     \n",
      "=============================================================\n",
      "  group1      group2    meandiff p-adj   lower  upper  reject\n",
      "-------------------------------------------------------------\n",
      "   arvore           knn  -0.0001 0.8432 -0.0003 0.0002  False\n",
      "   arvore     logistica   0.0026  0.001  0.0024 0.0029   True\n",
      "   arvore random_forest   0.0028  0.001  0.0026  0.003   True\n",
      "      knn     logistica   0.0027  0.001  0.0025 0.0029   True\n",
      "      knn random_forest   0.0029  0.001  0.0026 0.0031   True\n",
      "logistica random_forest   0.0002 0.2151 -0.0001 0.0004  False\n",
      "-------------------------------------------------------------\n"
     ]
    }
   ],
   "source": [
    "teste_estatistico = compara_algoritmos.tukeyhsd()\n",
    "print(teste_estatistico)"
   ]
  },
  {
   "cell_type": "markdown",
   "metadata": {
    "id": "yxuAPK9vUeD4"
   },
   "source": [
    "De acordo com o teste de Tukey podemos afirmar que não rejeitamos a hipótese nula para a comparação das médias entre árvore de decisão e knn, podemos afirmar o mesmo para as médias da Regressão Logística e do Random Forest, isso significa que as médias desses algoritmos não diferem estatísticamente com 95% de confiança."
   ]
  },
  {
   "cell_type": "code",
   "execution_count": 44,
   "metadata": {
    "colab": {
     "base_uri": "https://localhost:8080/"
    },
    "id": "Js3dO_D5TsHc",
    "outputId": "c66b366c-482a-4055-a7b1-6d73cc7dbe4d"
   },
   "outputs": [
    {
     "data": {
      "text/plain": [
       "Arvore           0.911934\n",
       "Random forest    0.914733\n",
       "KNN              0.911863\n",
       "Logistica        0.914558\n",
       "dtype: float64"
      ]
     },
     "execution_count": 44,
     "metadata": {},
     "output_type": "execute_result"
    }
   ],
   "source": [
    "resultados.mean()"
   ]
  },
  {
   "cell_type": "code",
   "execution_count": 45,
   "metadata": {
    "colab": {
     "base_uri": "https://localhost:8080/",
     "height": 390
    },
    "id": "F7YL-ZWHTx3T",
    "outputId": "9c9345e8-a3b0-4b98-c29d-104adf25aee4"
   },
   "outputs": [
    {
     "data": {
      "image/png": "[encoded data removed]",
      "text/plain": [
       "<Figure size 720x432 with 1 Axes>"
      ]
     },
     "metadata": {},
     "output_type": "display_data"
    }
   ],
   "source": [
    "teste_estatistico.plot_simultaneous();"
   ]
  },
  {
   "cell_type": "markdown",
   "metadata": {
    "tags": []
   },
   "source": [
    "## Aplicando o algoritmo de Regressão Logística"
   ]
  },
  {
   "cell_type": "code",
   "execution_count": 61,
   "metadata": {
    "colab": {
     "base_uri": "https://localhost:8080/"
    },
    "id": "Oyvfmd3rbE0n",
    "outputId": "82fcb046-f4f6-422a-dae2-b020156a82f1"
   },
   "outputs": [
    {
     "data": {
      "text/plain": [
       "((21000, 38), (21000,), (9000, 38), (9000,))"
      ]
     },
     "execution_count": 61,
     "metadata": {},
     "output_type": "execute_result"
    }
   ],
   "source": [
    "x_train, x_test, y_train, y_test = train_test_split(explicativas,resposta,test_size=0.3,random_state=1)\n",
    "x_train.shape, y_train.shape, x_test.shape, y_test.shape"
   ]
  },
  {
   "cell_type": "code",
   "execution_count": null,
   "metadata": {},
   "outputs": [
    {
     "data": {
      "text/plain": [
       "LogisticRegression(random_state=1)"
      ]
     },
     "execution_count": 83,
     "metadata": {},
     "output_type": "execute_result"
    }
   ],
   "source": [
    "warnings.filterwarnings('ignore')\n",
    "\n",
    "logistica = LogisticRegression(C = 1.0, solver = 'lbfgs', tol = 0.0001, random_state=1)\n",
    "logistica.fit(x_train, y_train)"
   ]
  },
  {
   "cell_type": "code",
   "execution_count": 84,
   "metadata": {
    "colab": {
     "base_uri": "https://localhost:8080/"
    },
    "id": "_hyz8f-mb0yF",
    "outputId": "712eb9ee-ffca-48d9-b295-eaeac15dbd2a"
   },
   "outputs": [
    {
     "data": {
      "text/plain": [
       "array([0, 0, 0, ..., 0, 0, 0], dtype=int64)"
      ]
     },
     "execution_count": 84,
     "metadata": {},
     "output_type": "execute_result"
    }
   ],
   "source": [
    "previsoes_log = logistica.predict(x_test)\n",
    "previsoes_log"
   ]
  },
  {
   "cell_type": "code",
   "execution_count": 85,
   "metadata": {
    "colab": {
     "base_uri": "https://localhost:8080/"
    },
    "id": "8Cu_V89Gc_G_",
    "outputId": "e97e61f4-5168-4ceb-e5ee-7f0d80a33159"
   },
   "outputs": [
    {
     "data": {
      "text/plain": [
       "array([0, 0, 0, ..., 0, 0, 0], dtype=int64)"
      ]
     },
     "execution_count": 85,
     "metadata": {},
     "output_type": "execute_result"
    }
   ],
   "source": [
    "y_test"
   ]
  },
  {
   "cell_type": "code",
   "execution_count": 86,
   "metadata": {
    "colab": {
     "base_uri": "https://localhost:8080/"
    },
    "id": "mtoCkyYkdGK-",
    "outputId": "92aab70d-ad5b-47b5-f805-024f0d773d41"
   },
   "outputs": [
    {
     "data": {
      "text/plain": [
       "0.9138888888888889"
      ]
     },
     "execution_count": 86,
     "metadata": {},
     "output_type": "execute_result"
    }
   ],
   "source": [
    "accuracy_score(y_test, previsoes_log)"
   ]
  },
  {
   "cell_type": "code",
   "execution_count": 87,
   "metadata": {
    "colab": {
     "base_uri": "https://localhost:8080/",
     "height": 362
    },
    "id": "eD57pfgvdO5t",
    "outputId": "9500e019-2136-4295-e429-ebfb7d8b0be0"
   },
   "outputs": [
    {
     "data": {
      "text/plain": [
       "0.9138888888888889"
      ]
     },
     "execution_count": 87,
     "metadata": {},
     "output_type": "execute_result"
    },
    {
     "data": {
      "image/png": "[encoded data removed]",
      "text/plain": [
       "<Figure size 576x396 with 1 Axes>"
      ]
     },
     "metadata": {},
     "output_type": "display_data"
    }
   ],
   "source": [
    "cm = ConfusionMatrix(logistica)\n",
    "cm.fit(x_train, y_train)\n",
    "cm.score(x_test, y_test)"
   ]
  },
  {
   "cell_type": "code",
   "execution_count": 88,
   "metadata": {
    "colab": {
     "base_uri": "https://localhost:8080/"
    },
    "id": "0TVHEUARdlHJ",
    "outputId": "a66a4659-9612-4771-db6e-e8eb599d93cf"
   },
   "outputs": [
    {
     "name": "stdout",
     "output_type": "stream",
     "text": [
      "              precision    recall  f1-score   support\n",
      "\n",
      "           0       0.92      0.99      0.95      8207\n",
      "           1       0.55      0.13      0.21       793\n",
      "\n",
      "    accuracy                           0.91      9000\n",
      "   macro avg       0.73      0.56      0.58      9000\n",
      "weighted avg       0.89      0.91      0.89      9000\n",
      "\n"
     ]
    }
   ],
   "source": [
    "print(classification_report(y_test, previsoes_log))"
   ]
  },
  {
   "cell_type": "markdown",
   "metadata": {
    "id": "5rFfq24zjujH"
   },
   "source": [
    "Aqui podemos observar que o algoritmo de Regressão Logística consegue prever 99% de todas as pessoas que não vão possuir doença do coração e desses, 92% realmente não irão ter tal doença. Já para os que irão possuir doença de coração, esse algoritmo consegue prever apenas 13% e desses, ele consegue acertar em 55% dos casos."
   ]
  },
  {
   "cell_type": "markdown",
   "metadata": {
    "id": "H_-0v5b9dxS-",
    "tags": []
   },
   "source": [
    "## Aplicando o algoritmo K-Nearest Neighbors (KNN)"
   ]
  },
  {
   "cell_type": "code",
   "execution_count": 89,
   "metadata": {
    "colab": {
     "base_uri": "https://localhost:8080/"
    },
    "id": "7nKIzeEId9z2",
    "outputId": "7e7bff3b-283f-458d-dfcc-d9188f37a89a"
   },
   "outputs": [
    {
     "data": {
      "text/plain": [
       "KNeighborsClassifier(n_neighbors=8)"
      ]
     },
     "execution_count": 89,
     "metadata": {},
     "output_type": "execute_result"
    }
   ],
   "source": [
    "knn = KNeighborsClassifier(n_neighbors = 8, p = 2, weights = 'uniform')\n",
    "knn.fit(x_train, y_train)"
   ]
  },
  {
   "cell_type": "code",
   "execution_count": 90,
   "metadata": {
    "colab": {
     "base_uri": "https://localhost:8080/"
    },
    "id": "7WQxKWYbexVs",
    "outputId": "b772fa22-8f65-4731-c379-167d0dad3027"
   },
   "outputs": [
    {
     "data": {
      "text/plain": [
       "array([0, 0, 0, ..., 0, 0, 0], dtype=int64)"
      ]
     },
     "execution_count": 90,
     "metadata": {},
     "output_type": "execute_result"
    }
   ],
   "source": [
    "previsoes_knn = knn.predict(x_test)\n",
    "previsoes_knn"
   ]
  },
  {
   "cell_type": "code",
   "execution_count": 91,
   "metadata": {
    "colab": {
     "base_uri": "https://localhost:8080/"
    },
    "id": "-G_Iyh9ge5Dc",
    "outputId": "1f84a65e-502c-4d75-f771-0cc30cf7c20e"
   },
   "outputs": [
    {
     "data": {
      "text/plain": [
       "array([0, 0, 0, ..., 0, 0, 0], dtype=int64)"
      ]
     },
     "execution_count": 91,
     "metadata": {},
     "output_type": "execute_result"
    }
   ],
   "source": [
    "y_test"
   ]
  },
  {
   "cell_type": "code",
   "execution_count": 92,
   "metadata": {
    "colab": {
     "base_uri": "https://localhost:8080/"
    },
    "id": "SDpnOe_se7YU",
    "outputId": "85d1a227-e9ad-443c-9a07-a25b435e4fd5"
   },
   "outputs": [
    {
     "data": {
      "text/plain": [
       "0.9103333333333333"
      ]
     },
     "execution_count": 92,
     "metadata": {},
     "output_type": "execute_result"
    }
   ],
   "source": [
    "accuracy_score(y_test, previsoes_knn)"
   ]
  },
  {
   "cell_type": "code",
   "execution_count": 93,
   "metadata": {
    "colab": {
     "base_uri": "https://localhost:8080/",
     "height": 362
    },
    "id": "9NwF7BVWfD-K",
    "outputId": "975d6cc8-c135-4452-94bc-88e61f100e11"
   },
   "outputs": [
    {
     "data": {
      "text/plain": [
       "0.9103333333333333"
      ]
     },
     "execution_count": 93,
     "metadata": {},
     "output_type": "execute_result"
    },
    {
     "data": {
      "image/png": "[encoded data removed]",
      "text/plain": [
       "<Figure size 576x396 with 1 Axes>"
      ]
     },
     "metadata": {},
     "output_type": "display_data"
    }
   ],
   "source": [
    "cm = ConfusionMatrix(knn)\n",
    "cm.fit(x_train, y_train)\n",
    "cm.score(x_test, y_test)"
   ]
  },
  {
   "cell_type": "code",
   "execution_count": 94,
   "metadata": {
    "colab": {
     "base_uri": "https://localhost:8080/"
    },
    "id": "99yzp-04fRgv",
    "outputId": "8a2ddbbb-e808-46a3-e1d7-f01c0f0d6a54"
   },
   "outputs": [
    {
     "name": "stdout",
     "output_type": "stream",
     "text": [
      "              precision    recall  f1-score   support\n",
      "\n",
      "           0       0.91      0.99      0.95      8207\n",
      "           1       0.41      0.04      0.08       793\n",
      "\n",
      "    accuracy                           0.91      9000\n",
      "   macro avg       0.66      0.52      0.52      9000\n",
      "weighted avg       0.87      0.91      0.88      9000\n",
      "\n"
     ]
    }
   ],
   "source": [
    "print(classification_report(y_test, previsoes_knn))"
   ]
  },
  {
   "cell_type": "markdown",
   "metadata": {
    "id": "BcUsoWlFkopo"
   },
   "source": [
    "Aqui podemos observar que o algoritmo KNN consegue prever 99% de todas as pessoas que não vão possuir doença do coração e desses, 91% realmente não irão ter tal doença. Já para os que irão possuir doença de coração, esse algoritmo consegue prever apenas 4% e desses, ele consegue acertar em 41% dos casos."
   ]
  },
  {
   "cell_type": "markdown",
   "metadata": {
    "id": "PhazcpqUgHRs",
    "tags": []
   },
   "source": [
    "## Aplicação do algoritmo Decision Tree"
   ]
  },
  {
   "cell_type": "code",
   "execution_count": 95,
   "metadata": {
    "colab": {
     "base_uri": "https://localhost:8080/"
    },
    "id": "y_0bT7KNgLUi",
    "outputId": "59bbbdea-d625-4d96-9960-96c8d2739cf8"
   },
   "outputs": [
    {
     "data": {
      "text/plain": [
       "DecisionTreeClassifier(criterion='entropy', min_samples_leaf=20,\n",
       "                       min_samples_split=5, random_state=1, splitter='random')"
      ]
     },
     "execution_count": 95,
     "metadata": {},
     "output_type": "execute_result"
    }
   ],
   "source": [
    "dt = DecisionTreeClassifier(criterion = 'entropy', min_samples_leaf = 20, min_samples_split = 5, splitter = 'random', random_state = 1)\n",
    "dt.fit(x_train, y_train)"
   ]
  },
  {
   "cell_type": "code",
   "execution_count": 96,
   "metadata": {
    "colab": {
     "base_uri": "https://localhost:8080/"
    },
    "id": "K9wJg22PgvKw",
    "outputId": "45f3abb5-b8e8-46ea-957b-95f4d92712b1"
   },
   "outputs": [
    {
     "data": {
      "text/plain": [
       "array([0, 0, 0, ..., 0, 0, 0], dtype=int64)"
      ]
     },
     "execution_count": 96,
     "metadata": {},
     "output_type": "execute_result"
    }
   ],
   "source": [
    "previsoes_dt = dt.predict(x_test)\n",
    "previsoes_dt"
   ]
  },
  {
   "cell_type": "code",
   "execution_count": 97,
   "metadata": {
    "colab": {
     "base_uri": "https://localhost:8080/"
    },
    "id": "3z4KX3bPhWcV",
    "outputId": "b59614f4-dbdd-4543-a3c8-1cb05ed4e237"
   },
   "outputs": [
    {
     "data": {
      "text/plain": [
       "array([0, 0, 0, ..., 0, 0, 0], dtype=int64)"
      ]
     },
     "execution_count": 97,
     "metadata": {},
     "output_type": "execute_result"
    }
   ],
   "source": [
    "y_test"
   ]
  },
  {
   "cell_type": "code",
   "execution_count": 98,
   "metadata": {
    "colab": {
     "base_uri": "https://localhost:8080/"
    },
    "id": "iAFQR7BhhYtx",
    "outputId": "01ee9756-83da-4098-b83d-f146e55ae185"
   },
   "outputs": [
    {
     "data": {
      "text/plain": [
       "0.9117777777777778"
      ]
     },
     "execution_count": 98,
     "metadata": {},
     "output_type": "execute_result"
    }
   ],
   "source": [
    "accuracy_score(y_test, previsoes_dt)"
   ]
  },
  {
   "cell_type": "code",
   "execution_count": 99,
   "metadata": {
    "colab": {
     "base_uri": "https://localhost:8080/",
     "height": 362
    },
    "id": "N4yE38AwhdOM",
    "outputId": "f9ceb834-a007-453c-be20-3f5d7a4dd3b7"
   },
   "outputs": [
    {
     "data": {
      "text/plain": [
       "0.9117777777777778"
      ]
     },
     "execution_count": 99,
     "metadata": {},
     "output_type": "execute_result"
    },
    {
     "data": {
      "image/png": "[encoded data removed]",
      "text/plain": [
       "<Figure size 576x396 with 1 Axes>"
      ]
     },
     "metadata": {},
     "output_type": "display_data"
    }
   ],
   "source": [
    "cm = ConfusionMatrix(dt)\n",
    "cm.fit(x_train, y_train)\n",
    "cm.score(x_test, y_test)"
   ]
  },
  {
   "cell_type": "code",
   "execution_count": 100,
   "metadata": {
    "colab": {
     "base_uri": "https://localhost:8080/"
    },
    "id": "bkF3MgMmhkOl",
    "outputId": "63ecd7e3-36c8-432e-a958-404d004779af"
   },
   "outputs": [
    {
     "name": "stdout",
     "output_type": "stream",
     "text": [
      "              precision    recall  f1-score   support\n",
      "\n",
      "           0       0.92      0.99      0.95      8207\n",
      "           1       0.50      0.12      0.19       793\n",
      "\n",
      "    accuracy                           0.91      9000\n",
      "   macro avg       0.71      0.55      0.57      9000\n",
      "weighted avg       0.88      0.91      0.89      9000\n",
      "\n"
     ]
    }
   ],
   "source": [
    "print(classification_report(y_test, previsoes_dt))"
   ]
  },
  {
   "cell_type": "markdown",
   "metadata": {
    "id": "R_D3da-GlA9e"
   },
   "source": [
    "Aqui podemos observar que o algoritmo Decision Tree consegue prever 99% de todas as pessoas que não vão possuir doença do coração e desses, 92% realmente não irão ter tal doença. Já para os que irão possuir doença de coração, esse algoritmo consegue prever apenas 12% e desses, ele consegue acertar em 50% dos casos."
   ]
  },
  {
   "cell_type": "markdown",
   "metadata": {
    "id": "TQgh0I0nhsHJ",
    "tags": []
   },
   "source": [
    "## Aplicando o algoritmo Random Forest"
   ]
  },
  {
   "cell_type": "code",
   "execution_count": 101,
   "metadata": {
    "colab": {
     "base_uri": "https://localhost:8080/"
    },
    "id": "KTxLs0ohhvZ6",
    "outputId": "8396c4c5-79bb-473b-c46e-d88074df40a9"
   },
   "outputs": [
    {
     "data": {
      "text/plain": [
       "RandomForestClassifier(min_samples_split=20, n_estimators=150, random_state=1)"
      ]
     },
     "execution_count": 101,
     "metadata": {},
     "output_type": "execute_result"
    }
   ],
   "source": [
    "rf = RandomForestClassifier(criterion = 'gini', min_samples_leaf = 1, min_samples_split = 20, n_estimators = 150, random_state = 1)\n",
    "rf.fit(x_train, y_train)"
   ]
  },
  {
   "cell_type": "code",
   "execution_count": 102,
   "metadata": {
    "colab": {
     "base_uri": "https://localhost:8080/"
    },
    "id": "qTlOkiJ1iSdU",
    "outputId": "25656e74-e83b-4149-dcef-776b9bd236c7"
   },
   "outputs": [
    {
     "data": {
      "text/plain": [
       "array([0, 0, 0, ..., 0, 0, 0], dtype=int64)"
      ]
     },
     "execution_count": 102,
     "metadata": {},
     "output_type": "execute_result"
    }
   ],
   "source": [
    "previsoes_rf = rf.predict(x_test)\n",
    "previsoes_rf"
   ]
  },
  {
   "cell_type": "code",
   "execution_count": 103,
   "metadata": {
    "colab": {
     "base_uri": "https://localhost:8080/"
    },
    "id": "5JozHMAFieg-",
    "outputId": "b643e8bc-dfde-4c4a-a4f3-7891a020483e"
   },
   "outputs": [
    {
     "data": {
      "text/plain": [
       "array([0, 0, 0, ..., 0, 0, 0], dtype=int64)"
      ]
     },
     "execution_count": 103,
     "metadata": {},
     "output_type": "execute_result"
    }
   ],
   "source": [
    "y_test"
   ]
  },
  {
   "cell_type": "code",
   "execution_count": 104,
   "metadata": {
    "colab": {
     "base_uri": "https://localhost:8080/"
    },
    "id": "hRnOkIzGigFT",
    "outputId": "0e4c63f7-37b5-4002-9c35-94f3164a0ead"
   },
   "outputs": [
    {
     "data": {
      "text/plain": [
       "0.9145555555555556"
      ]
     },
     "execution_count": 104,
     "metadata": {},
     "output_type": "execute_result"
    }
   ],
   "source": [
    "accuracy_score(y_test, previsoes_rf)"
   ]
  },
  {
   "cell_type": "code",
   "execution_count": 105,
   "metadata": {
    "colab": {
     "base_uri": "https://localhost:8080/",
     "height": 362
    },
    "id": "5HqZjhRKigCM",
    "outputId": "da9237ef-75c2-476b-d01b-4eebc3a9ae31"
   },
   "outputs": [
    {
     "data": {
      "text/plain": [
       "0.9145555555555556"
      ]
     },
     "execution_count": 105,
     "metadata": {},
     "output_type": "execute_result"
    },
    {
     "data": {
      "image/png": "[encoded data removed]",
      "text/plain": [
       "<Figure size 576x396 with 1 Axes>"
      ]
     },
     "metadata": {},
     "output_type": "display_data"
    }
   ],
   "source": [
    "cm = ConfusionMatrix(rf)\n",
    "cm.fit(x_train, y_train)\n",
    "cm.score(x_test, y_test)"
   ]
  },
  {
   "cell_type": "code",
   "execution_count": 106,
   "metadata": {
    "colab": {
     "base_uri": "https://localhost:8080/"
    },
    "id": "DemzS8YNiwFZ",
    "outputId": "d13c5a3f-4552-4bd9-b571-81afaecb9a88"
   },
   "outputs": [
    {
     "name": "stdout",
     "output_type": "stream",
     "text": [
      "              precision    recall  f1-score   support\n",
      "\n",
      "           0       0.92      1.00      0.96      8207\n",
      "           1       0.67      0.06      0.11       793\n",
      "\n",
      "    accuracy                           0.91      9000\n",
      "   macro avg       0.79      0.53      0.53      9000\n",
      "weighted avg       0.89      0.91      0.88      9000\n",
      "\n"
     ]
    }
   ],
   "source": [
    "print(classification_report(y_test, previsoes_rf))"
   ]
  },
  {
   "cell_type": "markdown",
   "metadata": {
    "id": "ci1_aouTlMgI"
   },
   "source": [
    "Aqui podemos observar que o algoritmo Random Forest consegue prever 100% de todas as pessoas que não vão possuir doença do coração e desses, 92% realmente não irão ter tal doença. Já para os que irão possuir doença de coração, esse algoritmo consegue prever apenas 6% e desses, ele consegue acertar em 67% dos casos."
   ]
  },
  {
   "cell_type": "markdown",
   "metadata": {
    "id": "xPBTe2JalpRI"
   },
   "source": [
    "# Conclusão\n",
    "\n",
    "- De acordo com toda a análise podemos obervar que o algoritmo que mais se adaptou com os dados e com os parâmetros escolhidos pelo GridSearch foi a Regressão Logística com 91,38% de precisão. O algoritmo Random Forest apesar de ter tido uma precisão maior, ele foi menos eficiente em prever os pacientes que teriam doença cardíaca.\n",
    "- Todos os algoritmos foram muito bons em prever os pacientes que não teriam doença cardíaca, mas em prever quem teria a doença nenhum dos algoritmos foi bom. O que se saiu melhor foi justamente o algoritmo de regressão logística, prevendo 13% e acertando 55% desses."
   ]
  }
 ],
 "metadata": {
  "colab": {
   "collapsed_sections": [],
   "name": "heart_disease_prediction.ipynb",
   "provenance": []
  },
  "kernelspec": {
   "display_name": "Python 3 (ipykernel)",
   "language": "python",
   "name": "python3"
  },
  "language_info": {
   "codemirror_mode": {
    "name": "ipython",
    "version": 3
   },
   "file_extension": ".py",
   "mimetype": "text/x-python",
   "name": "python",
   "nbconvert_exporter": "python",
   "pygments_lexer": "ipython3",
   "version": "3.9.7"
  }
 },
 "nbformat": 4,
 "nbformat_minor": 4
}
